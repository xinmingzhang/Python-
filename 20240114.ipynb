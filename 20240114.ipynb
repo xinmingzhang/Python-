{
 "cells": [
  {
   "cell_type": "markdown",
   "id": "98832a74",
   "metadata": {},
   "source": [
    "# 答疑安排\n",
    "\n",
    "\n",
    "1.随堂练习讲解  \n",
    "2.作业二讲解\n"
   ]
  },
  {
   "cell_type": "markdown",
   "id": "2597db33",
   "metadata": {},
   "source": [
    "**第四章随堂练习**\n",
    "\n",
    "编程题：\n",
    "\n",
    "学生成绩：s_achievement = {\"math\":90,\"chinese\":100,\"english\":80}， \n",
    "\n",
    "请编写程序计算总成绩\n",
    "\n",
    "要求：\n",
    "函数名：def count_total_achievement(achievement)   \n",
    "返回值：总分   "
   ]
  },
  {
   "cell_type": "code",
   "execution_count": 5,
   "id": "a4c3e9c4",
   "metadata": {},
   "outputs": [
    {
     "name": "stdout",
     "output_type": "stream",
     "text": [
      "270\n"
     ]
    }
   ],
   "source": [
    "def count_total_achievement(achievement):\n",
    "\n",
    "    total = sum(achievement.values())\n",
    "\n",
    "    return total\n",
    "\n",
    "\n",
    "\n",
    "s_achievement = {\"math\": 90, \"chinese\": 100, \"english\": 80}\n",
    "\n",
    "total_achievement = count_total_achievement(s_achievement)\n",
    "print(total_achievement)"
   ]
  },
  {
   "cell_type": "markdown",
   "id": "a822dabb",
   "metadata": {},
   "source": [
    "**发现问题**\n",
    "\n",
    "样例1\n",
    "```python\n",
    "def count_total_achievement(achievement):\n",
    "\n",
    "    for k,v in s_schievement.items():\n",
    "\n",
    "        sum_achievement+=v\n",
    "\n",
    "    return sum_achievement\n",
    "```    \n",
    "1 python中变量不需要声明，但要定义 \n",
    "```python\n",
    "    sum_achievement = 0\n",
    "    for k,v in s_schievement.items():\n",
    "        sum_achievement+=v\n",
    "```       \n",
    "2 变量作用域   \n",
    "```python\n",
    "def count_total_achievement(achievement):    \n",
    "    \n",
    "    for k,v in achievement.items():\n",
    "``` \n",
    "样例2\n",
    "```python\n",
    "def count_total_achievement(){\n",
    "\n",
    "      sum(s_achievement.values())\n",
    "\n",
    "}\n",
    "```\n",
    "3 python函数定义格式\n",
    "\n",
    "在Python中，定义函数的格式如下：\n",
    "\n",
    "```python\n",
    "def 函数名(参数1, 参数2, ...):\n",
    "    # 执行语句\n",
    "    # 可以包含任意数量的语句\n",
    "    \n",
    "    return 返回值\n",
    "```\n",
    "\n",
    "- `def` 关键字用于定义函数。\n",
    "- `函数名` 是函数的名称，用于在其他地方调用该函数。\n",
    "- `参数1, 参数2, ...` 是函数的参数列表，用于接收传入的值。\n",
    "- `:` 英文冒号引出函数体。\n",
    "- `# 执行语句` 是函数体，包含一系列的语句，用于实现函数的功能。\n",
    "- `return` 关键字用于返回函数的结果，可以省略。如果没有 return 语句，函数将返回 None。\n",
    "- `返回值` 是函数的返回结果，可以是任意类型的值。\n",
    "\n",
    "样例3\n",
    "```python\n",
    "def count_total_achievement(achievement):\n",
    "\n",
    "    score = sum(achievement.values())/len(achievement)\n",
    "\n",
    "    return score\n",
    "``` \n",
    "4 注意题目要求（总分不是平均分）\n",
    "\n"
   ]
  },
  {
   "cell_type": "markdown",
   "id": "3240c82c",
   "metadata": {},
   "source": [
    "**第十一章随堂练习**\n",
    "\n",
    "在Python请独立编写查找函数：def binary_search (nums, target) \n",
    "\n",
    "要求： 1：使用二分查找实现 \n",
    "2：如果在text中找到value，返回对应的索引，否则返回-1"
   ]
  },
  {
   "cell_type": "markdown",
   "id": "33935df1",
   "metadata": {},
   "source": [
    "**算法课程推荐**\n",
    "\n",
    "后期有专门算法训练营\n",
    "\n",
    "学有余力或者感兴趣的同学可以\n",
    "\n",
    "进入学堂在线(https://www.xuetangx.com/ )主页\n",
    "\n",
    "搜索 “邓俊辉”\n",
    "\n",
    "找到  数据结构（上）\n",
    "数据结构（下）\n",
    "\n",
    "提前学习"
   ]
  },
  {
   "cell_type": "markdown",
   "id": "19dfb62b",
   "metadata": {},
   "source": [
    "二分查找是一种高效的查找算法，它可以在有序数组中快速定位目标值的位置。它的核心思想是通过比较目标值和数组的中间元素，将搜索范围缩小一半，并重复这个过程，直到找到目标值或者搜索范围为空。\n",
    "\n",
    "以下是二分查找的基本步骤：\n",
    "\n",
    "1. 初始化左右边界指针，左边界指向数组开头，右边界指向数组结尾。\n",
    "2. 在每一轮循环中，计算中间元素的索引 `mid`，`mid` 的计算方法为 `(left + right) // 2`。\n",
    "3. 比较目标值和中间元素的大小：\n",
    "   - 如果目标值等于中间元素，则找到目标值，返回中间元素的索引。\n",
    "   - 如果目标值小于中间元素，则说明目标值在左半部分，更新右边界为 `mid - 1`。\n",
    "   - 如果目标值大于中间元素，则说明目标值在右半部分，更新左边界为 `mid + 1`。\n",
    "4. 重复步骤2和步骤3，直到找到目标值或者搜索范围为空。\n",
    "5. 如果搜索范围为空，则目标值不存在于数组中，返回 -1。\n",
    "\n",
    "二分查找的时间复杂度为 O(log n)，其中 n 是数组的长度。由于每次循环都将搜索范围缩小一半，所以算法的时间复杂度是对数级别的。这使得二分查找比线性查找更加高效。但是，要使用二分查找，必须先对数组进行排序，以确保数组具有有序性。\n",
    "\n",
    "以下是一个实现二分查找的函数：\n",
    "\n",
    "```python\n",
    "def binary_search(nums, target):\n",
    "    left = 0\n",
    "    right = len(nums) - 1\n",
    "    \n",
    "    while left <= right:\n",
    "        mid = (left + right) // 2\n",
    "        if nums[mid] == target:\n",
    "            return mid\n",
    "        elif nums[mid] < target:\n",
    "            left = mid + 1\n",
    "        else:\n",
    "            right = mid - 1\n",
    "    \n",
    "    return -1\n",
    "```\n",
    "\n",
    "这个函数接受一个有序的列表 `nums` 和目标值 `target` 作为参数。它使用了一个循环，在每一轮循环中，它通过比较 `nums[mid]` 和 `target` 的大小来将搜索范围缩小一半，直到找到目标值或者搜索范围为空。如果找到目标值，返回目标值的索引。如果搜索范围为空，则表示目标值不存在于列表中，返回-1。"
   ]
  },
  {
   "cell_type": "markdown",
   "id": "43e42525",
   "metadata": {},
   "source": [
    "# 作业二讲解\n",
    "\n",
    "> 题目要求\n",
    "\n",
    ">> 给定整数数组 nums 和整数 k，请返回数组中第 k 个最大的元素。  \n",
    ">> \n",
    ">> 请注意，你需要找的是数组排序后的第 k 个最大的元素，而不是第 k 个不同的元素。  \n",
    ">> 注意时间复杂度  \n",
    ">> \n",
    ">> 提示：可以使用快速排序\n",
    ">> \n",
    ">> 测试数据：  \n",
    ">> nums = [3,2,1,5,6,4]  \n",
    ">> k = 2\n",
    ">> \n",
    ">> nums = [1]  \n",
    ">> k = 1\n",
    ">> \n",
    ">> nums = [3,2]  \n",
    ">> k = 1\n",
    ">> \n",
    ">> nums = [3,2]  \n",
    ">> k = 2\n"
   ]
  },
  {
   "cell_type": "code",
   "execution_count": 2,
   "id": "916a344e",
   "metadata": {},
   "outputs": [
    {
     "data": {
      "text/plain": [
       "5"
      ]
     },
     "execution_count": 2,
     "metadata": {},
     "output_type": "execute_result"
    }
   ],
   "source": [
    "def findKthLargest(nums, k):\n",
    "  nums.sort()\n",
    "  return nums[-k]\n",
    "\n",
    "nums = [3,2,1,5,6,4]\n",
    "k = 2\n",
    "findKthLargest(nums, k)"
   ]
  },
  {
   "cell_type": "markdown",
   "id": "ed957fc0",
   "metadata": {},
   "source": [
    "### 注意事项 \n",
    "* 考虑nums和k的情况\n",
    "* 使用try/except捕获异常"
   ]
  },
  {
   "cell_type": "code",
   "execution_count": 20,
   "id": "fc56818f",
   "metadata": {},
   "outputs": [
    {
     "name": "stdout",
     "output_type": "stream",
     "text": [
      "error：输入内容不符合要求\n"
     ]
    }
   ],
   "source": [
    "def findKthLargest(nums, k):\n",
    "  if k >= 1 and k <= len(nums) and len(nums) > 0:\n",
    "    nums_ = sorted(nums,reverse = True)\n",
    "    result = nums_[k-1]\n",
    "    print(result)\n",
    "  else:\n",
    "    print('error：输入内容不符合要求')\n",
    "    \n",
    "nums = [3,2,1,5,6,4]\n",
    "k = -1\n",
    "findKthLargest(nums, k)"
   ]
  },
  {
   "cell_type": "markdown",
   "id": "e173bc45",
   "metadata": {},
   "source": [
    "当我们编写代码时，有时候会遇到一些可能会引发异常（错误）的情况。为了避免程序崩溃或处理这些异常情况，我们可以使用try-except语句。\n",
    "\n",
    "try-except语句的基本结构如下：\n",
    "\n",
    "```python\n",
    "try:\n",
    "    # 可能引发异常的代码块\n",
    "except ExceptionType:\n",
    "    # 处理异常的代码块\n",
    "```\n",
    "\n",
    "代码块中的\"try\"部分包含我们要执行的可能会引发异常的代码。如果该代码块中的任何一行代码导致异常抛出，那么程序的执行流程将立即转到对应的\"except\"部分。\n",
    "\n",
    "\"except\"部分是用来处理异常的地方。在这个部分，我们可以添加适当的代码来捕获和处理异常，或采取其他行动。\"ExceptionType\"是指我们要捕获的特定异常类型，例如ZeroDivisionError、ValueError等。如果未指定异常类型，那么\"except\"将捕获所有异常。\n",
    "\n",
    "以下是一个示例，演示了如何使用try-except语句处理可能的除零错误：\n",
    "\n",
    "```python\n",
    "try:\n",
    "    result = 10 / 0\n",
    "except ZeroDivisionError:\n",
    "    print(\"除零错误发生了！\")\n",
    "```\n",
    "\n",
    "在这个例子中，我们尝试将10除以0，这会导致ZeroDivisionError异常。然后，异常被捕获并打印出一条消息\"除零错误发生了！\"。\n",
    "\n",
    "使用try-except语句可以增加程序的健壮性，使其能够处理异常情况，并避免意外终止。此外，我们还可以在except块中执行一些特定的操作，比如记录错误日志、进行回滚或者提供备用操作。"
   ]
  },
  {
   "cell_type": "markdown",
   "id": "64e3f4d4",
   "metadata": {},
   "source": [
    "[力扣题解参考](https://leetcode.cn/problems/kth-largest-element-in-an-array/solutions/2361969/215-shu-zu-zhong-de-di-k-ge-zui-da-yuan-d786p/)"
   ]
  },
  {
   "cell_type": "markdown",
   "id": "70147d2b",
   "metadata": {},
   "source": [
    "## 作业尽量以源代码压缩包形式提交\n",
    "\n",
    "\n"
   ]
  },
  {
   "cell_type": "markdown",
   "id": "b057f028",
   "metadata": {},
   "source": [
    "![aaa](./2.png)"
   ]
  },
  {
   "cell_type": "code",
   "execution_count": null,
   "id": "40bb72c4",
   "metadata": {},
   "outputs": [],
   "source": []
  }
 ],
 "metadata": {
  "kernelspec": {
   "display_name": "Python 3",
   "language": "python",
   "name": "python3"
  },
  "language_info": {
   "codemirror_mode": {
    "name": "ipython",
    "version": 3
   },
   "file_extension": ".py",
   "mimetype": "text/x-python",
   "name": "python",
   "nbconvert_exporter": "python",
   "pygments_lexer": "ipython3",
   "version": "3.9.12"
  }
 },
 "nbformat": 4,
 "nbformat_minor": 5
}
