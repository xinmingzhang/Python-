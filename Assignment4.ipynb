{
 "cells": [
  {
   "cell_type": "markdown",
   "id": "930507a5-510e-47ab-90b3-b00d2e002acf",
   "metadata": {},
   "source": [
    "需求：在jupyter下对职位信息进行可视化分析；\n",
    "\n",
    "1. 薪资相关\n",
    "\n",
    "1）薪资分析\n",
    "\n",
    "2）不同城市薪资分布\n",
    "\n",
    "3）N薪分布\n",
    "\n",
    "4）工作年限与薪资\n",
    "\n",
    "\n",
    "\n",
    "2. 职位分析\n",
    "\n",
    "1）不同城市职位数量\n",
    "\n",
    "2）公司融资情况\n",
    "\n",
    "3）不同行业公司数量\n",
    "\n",
    "4）工作经验分析\n",
    "\n",
    "5）职位标签：词云制作\n",
    "\n",
    "按顺序依次执行代码块即可\\\n",
    "如有报错,尝试重新从最上方开始运行\\\n",
    "\n",
    "\n",
    "关于词云图：使用了第三方库wordcloud,需要先用pip安装\\\n",
    "或者在压缩包内，有一份叫做wordcloud.jpg的图片文件，打开即可直接查看代码运行后生成的词云图"
   ]
  },
  {
   "cell_type": "code",
   "execution_count": 1,
   "id": "62e3487f-b028-4a88-a64e-e97684958d5b",
   "metadata": {},
   "outputs": [],
   "source": [
    "#导入\n",
    "import pandas as pd;\n",
    "import matplotlib.pyplot as plt;\n",
    "import numpy as np;\n",
    "import seaborn as sns;\n",
    "import re;\n",
    "#让sns支持中文\n",
    "sns.set_style({\"font.sans-serif\":['simhei','Droid Sans Fallback']})"
   ]
  },
  {
   "cell_type": "code",
   "execution_count": 2,
   "id": "bf4720fe-0d8b-4dd9-8b82-874d93fc2b2c",
   "metadata": {},
   "outputs": [
    {
     "data": {
      "text/html": [
       "<div>\n",
       "<style scoped>\n",
       "    .dataframe tbody tr th:only-of-type {\n",
       "        vertical-align: middle;\n",
       "    }\n",
       "\n",
       "    .dataframe tbody tr th {\n",
       "        vertical-align: top;\n",
       "    }\n",
       "\n",
       "    .dataframe thead th {\n",
       "        text-align: right;\n",
       "    }\n",
       "</style>\n",
       "<table border=\"1\" class=\"dataframe\">\n",
       "  <thead>\n",
       "    <tr style=\"text-align: right;\">\n",
       "      <th></th>\n",
       "      <th>positionId</th>\n",
       "      <th>positionName</th>\n",
       "      <th>companyFullName</th>\n",
       "      <th>companyShortName</th>\n",
       "      <th>companySize</th>\n",
       "      <th>financeStage</th>\n",
       "      <th>industryField</th>\n",
       "      <th>companyLabelList</th>\n",
       "      <th>firstType</th>\n",
       "      <th>positionLables</th>\n",
       "      <th>...</th>\n",
       "      <th>createTime</th>\n",
       "      <th>city</th>\n",
       "      <th>district</th>\n",
       "      <th>businessZones</th>\n",
       "      <th>salary</th>\n",
       "      <th>salaryMonth</th>\n",
       "      <th>workYear</th>\n",
       "      <th>jobNature</th>\n",
       "      <th>education</th>\n",
       "      <th>positionAdvantage</th>\n",
       "    </tr>\n",
       "  </thead>\n",
       "  <tbody>\n",
       "    <tr>\n",
       "      <th>0</th>\n",
       "      <td>8280292</td>\n",
       "      <td>资深数据分析师</td>\n",
       "      <td>北京拉勾网络技术有限公司</td>\n",
       "      <td>拉勾网</td>\n",
       "      <td>500-2000人</td>\n",
       "      <td>D轮及以上</td>\n",
       "      <td>企业服务</td>\n",
       "      <td>['五险一金', '弹性工作', '带薪年假', '免费两餐']</td>\n",
       "      <td>开发|测试|运维类</td>\n",
       "      <td>['数据分析']</td>\n",
       "      <td>...</td>\n",
       "      <td>2021/4/26 10:00</td>\n",
       "      <td>北京</td>\n",
       "      <td>海淀区</td>\n",
       "      <td>NaN</td>\n",
       "      <td>15k-30k</td>\n",
       "      <td>14</td>\n",
       "      <td>3-5年</td>\n",
       "      <td>全职</td>\n",
       "      <td>本科</td>\n",
       "      <td>发展空间大,弹性工作制,领导Nice</td>\n",
       "    </tr>\n",
       "    <tr>\n",
       "      <th>1</th>\n",
       "      <td>8437217</td>\n",
       "      <td>数据分析实习生</td>\n",
       "      <td>北京字节跳动网络技术有限公司</td>\n",
       "      <td>字节跳动</td>\n",
       "      <td>2000人以上</td>\n",
       "      <td>D轮及以上</td>\n",
       "      <td>内容资讯,短视频</td>\n",
       "      <td>['扁平管理', '弹性工作', '就近租房补贴', '六险一金']</td>\n",
       "      <td>开发|测试|运维类</td>\n",
       "      <td>['后端开发']</td>\n",
       "      <td>...</td>\n",
       "      <td>2021/4/28 5:18</td>\n",
       "      <td>北京</td>\n",
       "      <td>海淀区</td>\n",
       "      <td>NaN</td>\n",
       "      <td>3k-6k</td>\n",
       "      <td>0</td>\n",
       "      <td>在校/应届</td>\n",
       "      <td>实习</td>\n",
       "      <td>本科</td>\n",
       "      <td>下午茶,健身瑜伽,免费三餐,弹性工作</td>\n",
       "    </tr>\n",
       "    <tr>\n",
       "      <th>2</th>\n",
       "      <td>6559839</td>\n",
       "      <td>数据分析师</td>\n",
       "      <td>欧科互动网络科技（北京）有限公司</td>\n",
       "      <td>欧科云链集团</td>\n",
       "      <td>500-2000人</td>\n",
       "      <td>不需要融资</td>\n",
       "      <td>区块链</td>\n",
       "      <td>['节日礼物', '年度旅游', '扁平管理', '领导好']</td>\n",
       "      <td>产品|需求|项目类</td>\n",
       "      <td>['数据分析']</td>\n",
       "      <td>...</td>\n",
       "      <td>2021/4/26 16:03</td>\n",
       "      <td>北京</td>\n",
       "      <td>海淀区</td>\n",
       "      <td>['西北旺', '上地', '清河']</td>\n",
       "      <td>25k-45k</td>\n",
       "      <td>0</td>\n",
       "      <td>5-10年</td>\n",
       "      <td>全职</td>\n",
       "      <td>本科</td>\n",
       "      <td>大牛团队 发展前景 薪资客观</td>\n",
       "    </tr>\n",
       "    <tr>\n",
       "      <th>3</th>\n",
       "      <td>8168535</td>\n",
       "      <td>数据分析师</td>\n",
       "      <td>欧科互动网络科技（北京）有限公司</td>\n",
       "      <td>欧科云链集团</td>\n",
       "      <td>500-2000人</td>\n",
       "      <td>不需要融资</td>\n",
       "      <td>区块链</td>\n",
       "      <td>['节日礼物', '年度旅游', '扁平管理', '领导好']</td>\n",
       "      <td>产品|需求|项目类</td>\n",
       "      <td>['商业', 'SQL', '数据分析']</td>\n",
       "      <td>...</td>\n",
       "      <td>2021/4/26 16:03</td>\n",
       "      <td>北京</td>\n",
       "      <td>海淀区</td>\n",
       "      <td>['西北旺', '上地', '清河']</td>\n",
       "      <td>15k-30k</td>\n",
       "      <td>14</td>\n",
       "      <td>1-3年</td>\n",
       "      <td>全职</td>\n",
       "      <td>本科</td>\n",
       "      <td>发展前景好，大牛团队</td>\n",
       "    </tr>\n",
       "    <tr>\n",
       "      <th>4</th>\n",
       "      <td>8438943</td>\n",
       "      <td>数据分析师</td>\n",
       "      <td>北京拉勾网络技术有限公司</td>\n",
       "      <td>拉勾网</td>\n",
       "      <td>500-2000人</td>\n",
       "      <td>D轮及以上</td>\n",
       "      <td>工具类产品,在线教育</td>\n",
       "      <td>['五险一金', '弹性工作', '带薪年假', '免费两餐']</td>\n",
       "      <td>产品|需求|项目类</td>\n",
       "      <td>['数据分析', 'hive', 'SQL']</td>\n",
       "      <td>...</td>\n",
       "      <td>2021/4/26 10:00</td>\n",
       "      <td>北京</td>\n",
       "      <td>海淀区</td>\n",
       "      <td>NaN</td>\n",
       "      <td>15k-25k</td>\n",
       "      <td>0</td>\n",
       "      <td>1-3年</td>\n",
       "      <td>全职</td>\n",
       "      <td>本科</td>\n",
       "      <td>15薪</td>\n",
       "    </tr>\n",
       "  </tbody>\n",
       "</table>\n",
       "<p>5 rows × 21 columns</p>\n",
       "</div>"
      ],
      "text/plain": [
       "   positionId positionName   companyFullName companyShortName companySize  \\\n",
       "0     8280292      资深数据分析师      北京拉勾网络技术有限公司              拉勾网   500-2000人   \n",
       "1     8437217      数据分析实习生    北京字节跳动网络技术有限公司             字节跳动     2000人以上   \n",
       "2     6559839        数据分析师  欧科互动网络科技（北京）有限公司           欧科云链集团   500-2000人   \n",
       "3     8168535        数据分析师  欧科互动网络科技（北京）有限公司           欧科云链集团   500-2000人   \n",
       "4     8438943        数据分析师      北京拉勾网络技术有限公司              拉勾网   500-2000人   \n",
       "\n",
       "  financeStage industryField                    companyLabelList  firstType  \\\n",
       "0        D轮及以上          企业服务    ['五险一金', '弹性工作', '带薪年假', '免费两餐']  开发|测试|运维类   \n",
       "1        D轮及以上      内容资讯,短视频  ['扁平管理', '弹性工作', '就近租房补贴', '六险一金']  开发|测试|运维类   \n",
       "2        不需要融资           区块链     ['节日礼物', '年度旅游', '扁平管理', '领导好']  产品|需求|项目类   \n",
       "3        不需要融资           区块链     ['节日礼物', '年度旅游', '扁平管理', '领导好']  产品|需求|项目类   \n",
       "4        D轮及以上    工具类产品,在线教育    ['五险一金', '弹性工作', '带薪年假', '免费两餐']  产品|需求|项目类   \n",
       "\n",
       "            positionLables  ...       createTime city district  \\\n",
       "0                 ['数据分析']  ...  2021/4/26 10:00   北京      海淀区   \n",
       "1                 ['后端开发']  ...   2021/4/28 5:18   北京      海淀区   \n",
       "2                 ['数据分析']  ...  2021/4/26 16:03   北京      海淀区   \n",
       "3    ['商业', 'SQL', '数据分析']  ...  2021/4/26 16:03   北京      海淀区   \n",
       "4  ['数据分析', 'hive', 'SQL']  ...  2021/4/26 10:00   北京      海淀区   \n",
       "\n",
       "         businessZones   salary salaryMonth  workYear jobNature education  \\\n",
       "0                  NaN  15k-30k          14      3-5年        全职        本科   \n",
       "1                  NaN    3k-6k           0     在校/应届        实习        本科   \n",
       "2  ['西北旺', '上地', '清河']  25k-45k           0     5-10年        全职        本科   \n",
       "3  ['西北旺', '上地', '清河']  15k-30k          14      1-3年        全职        本科   \n",
       "4                  NaN  15k-25k           0      1-3年        全职        本科   \n",
       "\n",
       "    positionAdvantage  \n",
       "0  发展空间大,弹性工作制,领导Nice  \n",
       "1  下午茶,健身瑜伽,免费三餐,弹性工作  \n",
       "2      大牛团队 发展前景 薪资客观  \n",
       "3          发展前景好，大牛团队  \n",
       "4                 15薪  \n",
       "\n",
       "[5 rows x 21 columns]"
      ]
     },
     "execution_count": 2,
     "metadata": {},
     "output_type": "execute_result"
    }
   ],
   "source": [
    "#读取并查看csv文件\n",
    "df = pd.read_csv(\"JobData.csv\", encoding = \"gbk\");\n",
    "df.head()"
   ]
  },
  {
   "cell_type": "markdown",
   "id": "b3edc2e5-d522-41a5-aa7d-a661e9ac0fdf",
   "metadata": {},
   "source": [
    "# 1. 薪资相关"
   ]
  },
  {
   "cell_type": "markdown",
   "id": "a4e4b86a-0640-40a1-a1be-a67eb0a24e44",
   "metadata": {},
   "source": [
    "## 薪资分析"
   ]
  },
  {
   "cell_type": "code",
   "execution_count": 3,
   "id": "2744aa57-cc32-44d5-8d65-fa0ee80e8575",
   "metadata": {},
   "outputs": [
    {
     "data": {
      "text/plain": [
       "array(['15k-30k', '3k-6k', '25k-45k', '15k-25k', '2k-4k', '20k-40k',\n",
       "       '18k-36k', '20k-30k', '15k-20k', '25k-40k', '25k-50k', '20k-35k',\n",
       "       '13k-25k', '18k-35k', '13k-20k', '4k-8k', '25k-35k', '8k-13k',\n",
       "       '10k-12k', '10k-20k', '15k-22k', '12k-24k', '10k-15k', '15k-28k',\n",
       "       '35k-50k', '30k-60k', '20k-25k', '6k-8k', '10k-18k', '8k-15k',\n",
       "       '6k-9k', '10k-13k', '3k-5k', '18k-30k', '9k-15k', '40k-80k',\n",
       "       '18k-23k', '4k-5k', '12k-19k', '8k-10k', '2k-3k', '12k-20k',\n",
       "       '30k-55k', '12k-18k', '6k-10k', '8k-16k', '30k-40k', '6k-12k',\n",
       "       '7k-14k', '18k-28k', '18k-25k', '3k-4k', '16k-30k', '17k-30k',\n",
       "       '28k-48k', '8k-12k', '30k-50k', '35k-60k', '40k-60k', '15k-27k',\n",
       "       '7k-12k', '22k-27k', '25k-30k', '20k-28k', '12k-15k', '7k-8k',\n",
       "       '9k-18k', '13k-18k', '13k-15k', '11k-20k', '35k-55k', '7k-10k',\n",
       "       '17k-22k', '50k-80k', '9k-11k', '5k-9k', '13k-19k', '16k-20k',\n",
       "       '14k-20k', '4k-6k', '15k-18k', '15k-26k', '18k-22k', '22k-37k',\n",
       "       '10k-14k', '9k-12k', '30k-45k', '9k-13k', '28k-36k', '5k-6k',\n",
       "       '25k-33k', '18k-20k', '17k-24k', '6k-7k', '13k-26k', '20k-26k',\n",
       "       '35k-70k', '16k-28k', '28k-45k', '7k-11k', '23k-35k', '10k-16k',\n",
       "       '17k-25k', '9k-14k', '9k-10k', '4k-7k', '1k-2k', '35k-45k',\n",
       "       '18k-32k', '45k-55k', '5k-10k', '18k-24k', '50k-100k', '10k-17k',\n",
       "       '16k-22k', '12k-16k', '22k-40k', '5k-8k', '7k-9k', '5k-7k',\n",
       "       '11k-15k', '15k-29k', '22k-30k', '16k-26k', '11k-16k', '40k-70k',\n",
       "       '14k-18k', '27k-40k', '25k-26k', '28k-46k', '16k-25k', '20k-39k',\n",
       "       '7k-13k', '15k-23k', '8k-11k', '8k-14k', '13k-22k', '15k-21k',\n",
       "       '22k-35k', '6k-11k', '14k-22k', '8k-9k', '14k-28k', '18k-26k',\n",
       "       '12k-22k', '19k-27k', '16k-18k', '23k-28k', '12k-23k', '13k-23k',\n",
       "       '15k-24k', '9k-16k', '20k-27k', '16k-21k', '11k-18k', '20k-38k',\n",
       "       '14k-15k', '27k-37k', '21k-30k', '3k以上', '20k-32k', '24k-32k',\n",
       "       '18k-21k', '17k-20k', '40k-55k', '14k-21k'], dtype=object)"
      ]
     },
     "execution_count": 3,
     "metadata": {},
     "output_type": "execute_result"
    }
   ],
   "source": [
    "#查看薪资的格式\n",
    "df[\"salary\"].unique()"
   ]
  },
  {
   "cell_type": "code",
   "execution_count": 4,
   "id": "aa405c52-11ac-4a44-b990-d42352433840",
   "metadata": {},
   "outputs": [
    {
     "data": {
      "text/plain": [
       "1"
      ]
     },
     "execution_count": 4,
     "metadata": {},
     "output_type": "execute_result"
    }
   ],
   "source": [
    "# 薪资的格式比较多样，可以选择取中间值，例如 15k-25k 取20k， 28k-46k 取 (28k+46k) /2 = 37k\n",
    "def takeMean(s:str):\n",
    "    group = re.match(r\"(\\d+)k-(\\d+)k\",s);\n",
    "    if group == None:\n",
    "        return np.nan;\n",
    "    else:\n",
    "        low,high = group.groups();\n",
    "        return (int(low) + int(high))/2;\n",
    "df[\"mean_salary\"] = df[\"salary\"].map(takeMean);\n",
    "#看看有多少缺省值\n",
    "df[\"mean_salary\"].isnull().sum()"
   ]
  },
  {
   "cell_type": "code",
   "execution_count": 5,
   "id": "a838e6e4-3141-42e1-ae82-f375a01bb938",
   "metadata": {},
   "outputs": [],
   "source": [
    "#只有一个缺省值，可以直接丢弃\n",
    "#可以用df[df[\"mean_salary\"].isnull()]检查，发现是因为salary为\"3k以上\",不符合\"xxk-xxk\"的格式\n",
    "df.dropna(subset=[\"mean_salary\"], inplace=True);"
   ]
  },
  {
   "cell_type": "code",
   "execution_count": 6,
   "id": "df662386-7632-4e7b-8c1b-2468cd2c73a2",
   "metadata": {},
   "outputs": [
    {
     "data": {
      "text/plain": [
       "0    22.5\n",
       "1     4.5\n",
       "2    35.0\n",
       "3    22.5\n",
       "4    20.0\n",
       "Name: mean_salary, dtype: float64"
      ]
     },
     "execution_count": 6,
     "metadata": {},
     "output_type": "execute_result"
    }
   ],
   "source": [
    "#整理过后的薪资估算\n",
    "df[\"mean_salary\"].head()"
   ]
  },
  {
   "cell_type": "code",
   "execution_count": 7,
   "id": "655e3f93-36fb-4b63-ac21-3413944387c6",
   "metadata": {},
   "outputs": [
    {
     "data": {
      "text/plain": [
       "count        3179\n",
       "unique        165\n",
       "top       15k-25k\n",
       "freq          231\n",
       "Name: salary, dtype: object"
      ]
     },
     "execution_count": 7,
     "metadata": {},
     "output_type": "execute_result"
    }
   ],
   "source": [
    "#对薪资进行一个分析\n",
    "salary_describe = df[\"salary\"].describe()\n",
    "salary_describe\n",
    "#count和unique没什么问题，top需要修改，因为排序方法默认用的是字符串排序，freq还需进一步查看"
   ]
  },
  {
   "cell_type": "code",
   "execution_count": 8,
   "id": "ea65650c-aa81-4c95-8606-8170b5c41eda",
   "metadata": {},
   "outputs": [
    {
     "data": {
      "text/plain": [
       "868     50k-100k\n",
       "1043    50k-100k\n",
       "1274    50k-100k\n",
       "2269    50k-100k\n",
       "Name: salary, dtype: object"
      ]
     },
     "execution_count": 8,
     "metadata": {},
     "output_type": "execute_result"
    }
   ],
   "source": [
    "#发现top最高都是50k-100k\n",
    "df[df[\"mean_salary\"] == max(df[\"mean_salary\"])][\"salary\"]"
   ]
  },
  {
   "cell_type": "code",
   "execution_count": 9,
   "id": "e829aeb7-15ba-4b31-872e-217297963e15",
   "metadata": {},
   "outputs": [
    {
     "data": {
      "text/plain": [
       "count         3179\n",
       "unique         165\n",
       "top       50k-100k\n",
       "freq           231\n",
       "Name: salary, dtype: object"
      ]
     },
     "execution_count": 9,
     "metadata": {},
     "output_type": "execute_result"
    }
   ],
   "source": [
    "#修改salary_describe\n",
    "salary_describe[\"top\"] = \"50k-100k\";\n",
    "salary_describe"
   ]
  },
  {
   "cell_type": "code",
   "execution_count": 10,
   "id": "7480721f-762d-451e-931d-eb787f39f72a",
   "metadata": {},
   "outputs": [
    {
     "data": {
      "image/png": "[encoded data removed]",
      "text/plain": [
       "<Figure size 3600x720 with 1 Axes>"
      ]
     },
     "metadata": {
      "needs_background": "light"
     },
     "output_type": "display_data"
    }
   ],
   "source": [
    "#双击放大图片，发现出现频率最高的是\"15k-25k\"\n",
    "plt.figure(figsize = (50,10));\n",
    "ax = sns.countplot(data = df, x = \"salary\");\n",
    "ax = ax.set_xticklabels(ax.get_xticklabels(),rotation = 90, fontsize = 20)"
   ]
  },
  {
   "cell_type": "code",
   "execution_count": 11,
   "id": "ea09209f-841b-4123-aeb1-9b952ec2b5eb",
   "metadata": {},
   "outputs": [
    {
     "data": {
      "text/plain": [
       "count                3179\n",
       "unique                165\n",
       "top              50k-100k\n",
       "freq                  231\n",
       "most_frequent     15k-25k\n",
       "Name: salary, dtype: object"
      ]
     },
     "execution_count": 11,
     "metadata": {},
     "output_type": "execute_result"
    }
   ],
   "source": [
    "#为salary_describe添加新的统计结果\n",
    "salary_describe[\"most_frequent\"] = \"15k-25k\";\n",
    "salary_describe"
   ]
  },
  {
   "cell_type": "markdown",
   "id": "beb49675-6a34-4822-ac82-86384f0208f6",
   "metadata": {},
   "source": [
    "## 不同城市薪资分布"
   ]
  },
  {
   "cell_type": "code",
   "execution_count": 12,
   "id": "29d6a5d4-1c71-4ed1-b5da-f3a98c290859",
   "metadata": {},
   "outputs": [
    {
     "data": {
      "text/plain": [
       "array(['北京', '上海', '深圳', '南京', '武汉', '广州', '杭州', '成都', '重庆'], dtype=object)"
      ]
     },
     "execution_count": 12,
     "metadata": {},
     "output_type": "execute_result"
    }
   ],
   "source": [
    "#查看所有城市\n",
    "df[\"city\"].unique()\n",
    "#一切正常"
   ]
  },
  {
   "cell_type": "code",
   "execution_count": 13,
   "id": "f7d99d0d-1913-4414-835c-372ed90a8678",
   "metadata": {},
   "outputs": [
    {
     "data": {
      "text/plain": [
       "city\n",
       "上海    20.657143\n",
       "北京    22.591111\n",
       "南京    13.744286\n",
       "广州    16.976190\n",
       "成都    11.730769\n",
       "杭州    20.442308\n",
       "武汉    12.600000\n",
       "深圳    20.841191\n",
       "重庆    12.333333\n",
       "Name: mean_salary, dtype: float64"
      ]
     },
     "execution_count": 13,
     "metadata": {},
     "output_type": "execute_result"
    }
   ],
   "source": [
    "#根据城市分组，获取薪资\n",
    "salByCity = df.groupby(\"city\")[\"mean_salary\"].apply(lambda x: x.map(lambda y: int(y)).mean());\n",
    "salByCity"
   ]
  },
  {
   "cell_type": "code",
   "execution_count": 14,
   "id": "e6748320-033d-4462-a048-fdc82b83fc1c",
   "metadata": {},
   "outputs": [],
   "source": [
    "salByCity = salByCity.reset_index();"
   ]
  },
  {
   "cell_type": "code",
   "execution_count": 15,
   "id": "086f6c7d-8a3d-4f3b-a7df-fec311c4ec92",
   "metadata": {},
   "outputs": [
    {
     "data": {
      "image/png": "[encoded data removed]",
      "text/plain": [
       "<Figure size 1152x288 with 1 Axes>"
      ]
     },
     "metadata": {
      "needs_background": "light"
     },
     "output_type": "display_data"
    }
   ],
   "source": [
    "#制图,用barplot方便横向对比\n",
    "plt.figure(figsize = (16,4));\n",
    "ax = sns.barplot(data = salByCity, x=\"city\",y = \"mean_salary\");\n",
    "ax.set_title(\"城市与薪资\");"
   ]
  },
  {
   "cell_type": "markdown",
   "id": "8b19155b-6050-494d-8d6f-72b646b097f4",
   "metadata": {},
   "source": [
    "上海，北京，广州，杭州，深圳的平均薪资比其他城市多一些"
   ]
  },
  {
   "cell_type": "markdown",
   "id": "8339c9ba-de40-4a3e-89d9-18ab968f2ef5",
   "metadata": {},
   "source": [
    "## N薪分布"
   ]
  },
  {
   "cell_type": "code",
   "execution_count": 16,
   "id": "eaec5c64-8d93-4272-a27d-fbc125e50f60",
   "metadata": {},
   "outputs": [
    {
     "data": {
      "text/plain": [
       "0       14\n",
       "1        0\n",
       "2        0\n",
       "3       14\n",
       "4        0\n",
       "        ..\n",
       "3175    13\n",
       "3176     0\n",
       "3177     0\n",
       "3178     0\n",
       "3179     0\n",
       "Name: salaryMonth, Length: 3179, dtype: int64"
      ]
     },
     "execution_count": 16,
     "metadata": {},
     "output_type": "execute_result"
    }
   ],
   "source": [
    "#默认0指的是正常12薪\n",
    "Nsalary = df.salaryMonth;\n",
    "Nsalary"
   ]
  },
  {
   "cell_type": "code",
   "execution_count": 17,
   "id": "b84b0813-4738-4252-b2e3-c530f4a78802",
   "metadata": {},
   "outputs": [],
   "source": [
    "Nsalary = pd.DataFrame(Nsalary.replace(0,12),columns = [\"salaryMonth\"]);"
   ]
  },
  {
   "cell_type": "code",
   "execution_count": 18,
   "id": "7be7815f-26ac-4254-ba9d-1f12c26f091c",
   "metadata": {},
   "outputs": [
    {
     "data": {
      "text/plain": [
       "count    3179.000000\n",
       "mean       12.811261\n",
       "std         1.215170\n",
       "min        12.000000\n",
       "25%        12.000000\n",
       "50%        12.000000\n",
       "75%        13.000000\n",
       "max        24.000000\n",
       "Name: salaryMonth, dtype: float64"
      ]
     },
     "execution_count": 18,
     "metadata": {},
     "output_type": "execute_result"
    }
   ],
   "source": [
    "Nsalary[\"salaryMonth\"].describe()"
   ]
  },
  {
   "cell_type": "code",
   "execution_count": 19,
   "id": "ef6cfe90-8e9d-4ad4-b475-324042917c16",
   "metadata": {},
   "outputs": [
    {
     "data": {
      "image/png": "[encoded data removed]",
      "text/plain": [
       "<Figure size 1152x288 with 1 Axes>"
      ]
     },
     "metadata": {
      "needs_background": "light"
     },
     "output_type": "display_data"
    }
   ],
   "source": [
    "plt.figure(figsize = (16,4));\n",
    "ax = sns.countplot(data = Nsalary, x = \"salaryMonth\");\n",
    "_ = ax.set_title(\"Nsalary Count\");"
   ]
  },
  {
   "cell_type": "markdown",
   "id": "b4d32fac-a904-4783-bf65-f258dd551f49",
   "metadata": {},
   "source": [
    "12薪的人最多，然后逐渐递减,最多到达24薪"
   ]
  },
  {
   "cell_type": "markdown",
   "id": "1ef66923-e00c-49eb-8d82-ac31a04c0406",
   "metadata": {},
   "source": [
    "## 工作年限与薪资"
   ]
  },
  {
   "cell_type": "code",
   "execution_count": 20,
   "id": "5987e691-6d57-44ee-a4da-dfb902ec6ad4",
   "metadata": {},
   "outputs": [
    {
     "data": {
      "text/plain": [
       "array(['3-5年', '在校/应届', '5-10年', '1-3年', '不限', '1年以下', '10年以上'],\n",
       "      dtype=object)"
      ]
     },
     "execution_count": 20,
     "metadata": {},
     "output_type": "execute_result"
    }
   ],
   "source": [
    "#先看看工作年限的格式\n",
    "df[\"workYear\"].unique()"
   ]
  },
  {
   "cell_type": "code",
   "execution_count": 21,
   "id": "671f31bd-1728-4e29-8c93-c5bd8c7b6d8d",
   "metadata": {},
   "outputs": [],
   "source": [
    "#手动把工作年限排序成较为合理的顺序\n",
    "workYearOrder = [\"在校/应届\",\"1年以下\",\"1-3年\",\"3-5年\",\"5-10年\",\"10年以上\",\"不限\"];"
   ]
  },
  {
   "cell_type": "code",
   "execution_count": 22,
   "id": "756796d9-095f-457a-9502-2d4a61b32472",
   "metadata": {},
   "outputs": [],
   "source": [
    "#获取每个工作年限段对应的平均工资(单位为k)\n",
    "salByWorkYear = df.groupby(\"workYear\")[\"mean_salary\"].apply(lambda x: x.map(lambda y: int(y)).mean());\n",
    "salByWorkYear = pd.DataFrame(salByWorkYear)"
   ]
  },
  {
   "cell_type": "code",
   "execution_count": 23,
   "id": "0ff52376-2f7f-448d-9c4f-4c82c8d076b5",
   "metadata": {},
   "outputs": [
    {
     "data": {
      "text/html": [
       "<div>\n",
       "<style scoped>\n",
       "    .dataframe tbody tr th:only-of-type {\n",
       "        vertical-align: middle;\n",
       "    }\n",
       "\n",
       "    .dataframe tbody tr th {\n",
       "        vertical-align: top;\n",
       "    }\n",
       "\n",
       "    .dataframe thead th {\n",
       "        text-align: right;\n",
       "    }\n",
       "</style>\n",
       "<table border=\"1\" class=\"dataframe\">\n",
       "  <thead>\n",
       "    <tr style=\"text-align: right;\">\n",
       "      <th></th>\n",
       "      <th>workYear</th>\n",
       "      <th>mean_salary</th>\n",
       "    </tr>\n",
       "  </thead>\n",
       "  <tbody>\n",
       "    <tr>\n",
       "      <th>0</th>\n",
       "      <td>1-3年</td>\n",
       "      <td>12.580178</td>\n",
       "    </tr>\n",
       "    <tr>\n",
       "      <th>1</th>\n",
       "      <td>10年以上</td>\n",
       "      <td>44.200000</td>\n",
       "    </tr>\n",
       "    <tr>\n",
       "      <th>2</th>\n",
       "      <td>1年以下</td>\n",
       "      <td>8.039216</td>\n",
       "    </tr>\n",
       "    <tr>\n",
       "      <th>3</th>\n",
       "      <td>3-5年</td>\n",
       "      <td>20.406446</td>\n",
       "    </tr>\n",
       "    <tr>\n",
       "      <th>4</th>\n",
       "      <td>5-10年</td>\n",
       "      <td>27.466993</td>\n",
       "    </tr>\n",
       "    <tr>\n",
       "      <th>5</th>\n",
       "      <td>不限</td>\n",
       "      <td>14.551802</td>\n",
       "    </tr>\n",
       "    <tr>\n",
       "      <th>6</th>\n",
       "      <td>在校/应届</td>\n",
       "      <td>7.252000</td>\n",
       "    </tr>\n",
       "  </tbody>\n",
       "</table>\n",
       "</div>"
      ],
      "text/plain": [
       "  workYear  mean_salary\n",
       "0     1-3年    12.580178\n",
       "1    10年以上    44.200000\n",
       "2     1年以下     8.039216\n",
       "3     3-5年    20.406446\n",
       "4    5-10年    27.466993\n",
       "5       不限    14.551802\n",
       "6    在校/应届     7.252000"
      ]
     },
     "execution_count": 23,
     "metadata": {},
     "output_type": "execute_result"
    }
   ],
   "source": [
    "#将workYear转换成列\n",
    "salByWorkYear = salByWorkYear.reset_index()\n",
    "salByWorkYear"
   ]
  },
  {
   "cell_type": "code",
   "execution_count": 24,
   "id": "16b96a5e-4321-4ef6-827c-b614ab3f3932",
   "metadata": {},
   "outputs": [
    {
     "data": {
      "image/png": "[encoded data removed]",
      "text/plain": [
       "<Figure size 1152x288 with 1 Axes>"
      ]
     },
     "metadata": {
      "needs_background": "light"
     },
     "output_type": "display_data"
    }
   ],
   "source": [
    "#制图,用barplot方便横向对比\n",
    "plt.figure(figsize = (16,4));\n",
    "ax = sns.barplot(data = salByWorkYear, x=\"workYear\",y = \"mean_salary\" ,order=workYearOrder);\n",
    "ax.set_title(\"工作年限与薪资\");"
   ]
  },
  {
   "cell_type": "markdown",
   "id": "3e6f130d-53d6-4037-955e-120603e4fd20",
   "metadata": {},
   "source": [
    "可以明显的看到，工作年限越久，平均工资越高"
   ]
  },
  {
   "cell_type": "markdown",
   "id": "19f4b706-0e79-40d9-93b1-f965a48ff617",
   "metadata": {},
   "source": [
    "# 2. 职位分析"
   ]
  },
  {
   "cell_type": "markdown",
   "id": "da8fed36-198a-40a2-a8cf-8ea9ef6dccd8",
   "metadata": {},
   "source": [
    "## 不同城市职位数量"
   ]
  },
  {
   "cell_type": "code",
   "execution_count": 25,
   "id": "a38ead5a-1b35-47ee-8cb1-689fca4c8b40",
   "metadata": {},
   "outputs": [
    {
     "data": {
      "text/plain": [
       "city\n",
       "上海    [数据分析师, 高级数据分析师, 数据分析实习生, 资深数据分析师, 薪酬数据分析专员, 数...\n",
       "北京    [资深数据分析师, 数据分析实习生, 数据分析师, 数据分析工程师, 游戏数据分析师, 高级...\n",
       "南京    [数据分析师, 数据分析产品研发负责人-To B, 资深数据分析师, 商品数据分析师 (MJ...\n",
       "广州    [数据分析师, 高级数据分析师, 资深数据分析师, 数据分析专员, 数据分析, 数据分析实习...\n",
       "成都    [数据分析师, 资深数据分析师, 数据分析专家, 数据分析专员, 高级数据分析师, 数据分析...\n",
       "杭州    [高级数据分析师, 电商数据分析师, (高级)数据分析师专家, 数据分析实习生, 数据分析师...\n",
       "武汉    [数据分析师, 高级数据分析师(大力教育), 数据分析专家, 高级数据分析师, 数据分析工程...\n",
       "深圳    [资深数据分析师, 数据分析师, 社交媒体数据分析, 022440-数据分析岗, 02420...\n",
       "重庆    [数据分析师, 数据分析（运营支持）, 数据分析主管, 高级数据分析师, 数据分析专员, 大...\n",
       "Name: positionName, dtype: object"
      ]
     },
     "execution_count": 25,
     "metadata": {},
     "output_type": "execute_result"
    }
   ],
   "source": [
    "#根据城市分组，获取各个城市所拥有的职位名称\n",
    "jobsByCity = df.groupby(\"city\")[\"positionName\"].unique()\n",
    "jobsByCity"
   ]
  },
  {
   "cell_type": "code",
   "execution_count": 26,
   "id": "08ba0693-2886-4e67-9767-62ae7237bfa5",
   "metadata": {},
   "outputs": [
    {
     "data": {
      "text/html": [
       "<div>\n",
       "<style scoped>\n",
       "    .dataframe tbody tr th:only-of-type {\n",
       "        vertical-align: middle;\n",
       "    }\n",
       "\n",
       "    .dataframe tbody tr th {\n",
       "        vertical-align: top;\n",
       "    }\n",
       "\n",
       "    .dataframe thead th {\n",
       "        text-align: right;\n",
       "    }\n",
       "</style>\n",
       "<table border=\"1\" class=\"dataframe\">\n",
       "  <thead>\n",
       "    <tr style=\"text-align: right;\">\n",
       "      <th></th>\n",
       "      <th>0</th>\n",
       "      <th>1</th>\n",
       "      <th>2</th>\n",
       "      <th>3</th>\n",
       "      <th>4</th>\n",
       "      <th>5</th>\n",
       "      <th>6</th>\n",
       "      <th>7</th>\n",
       "      <th>8</th>\n",
       "      <th>9</th>\n",
       "      <th>...</th>\n",
       "      <th>336</th>\n",
       "      <th>337</th>\n",
       "      <th>338</th>\n",
       "      <th>339</th>\n",
       "      <th>340</th>\n",
       "      <th>341</th>\n",
       "      <th>342</th>\n",
       "      <th>343</th>\n",
       "      <th>344</th>\n",
       "      <th>city</th>\n",
       "    </tr>\n",
       "  </thead>\n",
       "  <tbody>\n",
       "    <tr>\n",
       "      <th>0</th>\n",
       "      <td>数据分析师</td>\n",
       "      <td>高级数据分析师</td>\n",
       "      <td>数据分析实习生</td>\n",
       "      <td>资深数据分析师</td>\n",
       "      <td>薪酬数据分析专员</td>\n",
       "      <td>数据分析专家</td>\n",
       "      <td>抖音高级数据分析师</td>\n",
       "      <td>0231VS-数据建模设计岗</td>\n",
       "      <td>数据分析工程师</td>\n",
       "      <td>BK41XN-数据分析岗</td>\n",
       "      <td>...</td>\n",
       "      <td>None</td>\n",
       "      <td>None</td>\n",
       "      <td>None</td>\n",
       "      <td>None</td>\n",
       "      <td>None</td>\n",
       "      <td>None</td>\n",
       "      <td>None</td>\n",
       "      <td>None</td>\n",
       "      <td>None</td>\n",
       "      <td>上海</td>\n",
       "    </tr>\n",
       "    <tr>\n",
       "      <th>1</th>\n",
       "      <td>资深数据分析师</td>\n",
       "      <td>数据分析实习生</td>\n",
       "      <td>数据分析师</td>\n",
       "      <td>数据分析工程师</td>\n",
       "      <td>游戏数据分析师</td>\n",
       "      <td>高级数据分析师</td>\n",
       "      <td>数据分析专家</td>\n",
       "      <td>高级/资深渠道数据分析</td>\n",
       "      <td>数据分析营销课讲师</td>\n",
       "      <td>数据分析</td>\n",
       "      <td>...</td>\n",
       "      <td>None</td>\n",
       "      <td>None</td>\n",
       "      <td>None</td>\n",
       "      <td>None</td>\n",
       "      <td>None</td>\n",
       "      <td>None</td>\n",
       "      <td>None</td>\n",
       "      <td>None</td>\n",
       "      <td>None</td>\n",
       "      <td>北京</td>\n",
       "    </tr>\n",
       "    <tr>\n",
       "      <th>2</th>\n",
       "      <td>数据分析师</td>\n",
       "      <td>数据分析产品研发负责人-To B</td>\n",
       "      <td>资深数据分析师</td>\n",
       "      <td>商品数据分析师 (MJ002892)</td>\n",
       "      <td>数据分析专家</td>\n",
       "      <td>数据分析 (MJ011252)</td>\n",
       "      <td>数据分析（南京）</td>\n",
       "      <td>高级数据分析师</td>\n",
       "      <td>数据分析师（浏览器/小视频）(003521)</td>\n",
       "      <td>医药数据分析师(疫苗方向)</td>\n",
       "      <td>...</td>\n",
       "      <td>None</td>\n",
       "      <td>None</td>\n",
       "      <td>None</td>\n",
       "      <td>None</td>\n",
       "      <td>None</td>\n",
       "      <td>None</td>\n",
       "      <td>None</td>\n",
       "      <td>None</td>\n",
       "      <td>None</td>\n",
       "      <td>南京</td>\n",
       "    </tr>\n",
       "    <tr>\n",
       "      <th>3</th>\n",
       "      <td>数据分析师</td>\n",
       "      <td>高级数据分析师</td>\n",
       "      <td>资深数据分析师</td>\n",
       "      <td>数据分析专员</td>\n",
       "      <td>数据分析</td>\n",
       "      <td>数据分析实习生</td>\n",
       "      <td>数据分析（MJ000593）</td>\n",
       "      <td>国际化广告数据分析师</td>\n",
       "      <td>电商客服主任（数据分析）</td>\n",
       "      <td>大数据分析师</td>\n",
       "      <td>...</td>\n",
       "      <td>None</td>\n",
       "      <td>None</td>\n",
       "      <td>None</td>\n",
       "      <td>None</td>\n",
       "      <td>None</td>\n",
       "      <td>None</td>\n",
       "      <td>None</td>\n",
       "      <td>None</td>\n",
       "      <td>None</td>\n",
       "      <td>广州</td>\n",
       "    </tr>\n",
       "    <tr>\n",
       "      <th>4</th>\n",
       "      <td>数据分析师</td>\n",
       "      <td>资深数据分析师</td>\n",
       "      <td>数据分析专家</td>\n",
       "      <td>数据分析专员</td>\n",
       "      <td>高级数据分析师</td>\n",
       "      <td>数据分析实习生</td>\n",
       "      <td>数据分析（建模方向）</td>\n",
       "      <td>高级数据分析工程师 (MJ000753)</td>\n",
       "      <td>商业数据分析师</td>\n",
       "      <td>高级数据分析师 (MJ000551)</td>\n",
       "      <td>...</td>\n",
       "      <td>None</td>\n",
       "      <td>None</td>\n",
       "      <td>None</td>\n",
       "      <td>None</td>\n",
       "      <td>None</td>\n",
       "      <td>None</td>\n",
       "      <td>None</td>\n",
       "      <td>None</td>\n",
       "      <td>None</td>\n",
       "      <td>成都</td>\n",
       "    </tr>\n",
       "  </tbody>\n",
       "</table>\n",
       "<p>5 rows × 346 columns</p>\n",
       "</div>"
      ],
      "text/plain": [
       "         0                 1        2                   3         4  \\\n",
       "0    数据分析师           高级数据分析师  数据分析实习生             资深数据分析师  薪酬数据分析专员   \n",
       "1  资深数据分析师           数据分析实习生    数据分析师             数据分析工程师   游戏数据分析师   \n",
       "2    数据分析师  数据分析产品研发负责人-To B  资深数据分析师  商品数据分析师 (MJ002892)    数据分析专家   \n",
       "3    数据分析师           高级数据分析师  资深数据分析师              数据分析专员      数据分析   \n",
       "4    数据分析师           资深数据分析师   数据分析专家              数据分析专员   高级数据分析师   \n",
       "\n",
       "                 5               6                     7  \\\n",
       "0           数据分析专家       抖音高级数据分析师        0231VS-数据建模设计岗   \n",
       "1          高级数据分析师          数据分析专家           高级/资深渠道数据分析   \n",
       "2  数据分析 (MJ011252)        数据分析（南京）               高级数据分析师   \n",
       "3          数据分析实习生  数据分析（MJ000593）            国际化广告数据分析师   \n",
       "4          数据分析实习生      数据分析（建模方向）  高级数据分析工程师 (MJ000753)   \n",
       "\n",
       "                        8                   9  ...   336   337   338   339  \\\n",
       "0                 数据分析工程师        BK41XN-数据分析岗  ...  None  None  None  None   \n",
       "1               数据分析营销课讲师                数据分析  ...  None  None  None  None   \n",
       "2  数据分析师（浏览器/小视频）(003521)       医药数据分析师(疫苗方向)  ...  None  None  None  None   \n",
       "3            电商客服主任（数据分析）              大数据分析师  ...  None  None  None  None   \n",
       "4                 商业数据分析师  高级数据分析师 (MJ000551)  ...  None  None  None  None   \n",
       "\n",
       "    340   341   342   343   344 city  \n",
       "0  None  None  None  None  None   上海  \n",
       "1  None  None  None  None  None   北京  \n",
       "2  None  None  None  None  None   南京  \n",
       "3  None  None  None  None  None   广州  \n",
       "4  None  None  None  None  None   成都  \n",
       "\n",
       "[5 rows x 346 columns]"
      ]
     },
     "execution_count": 26,
     "metadata": {},
     "output_type": "execute_result"
    }
   ],
   "source": [
    "#对数据进行处理，使每一个岗位被分开计算\n",
    "jobsByCity = jobsByCity.reset_index();\n",
    "jobsByCity[\"positionName\"] = jobsByCity[\"positionName\"].apply(lambda x: \"|\".join(x))\n",
    "#记录一下city列\n",
    "tmp = jobsByCity[\"city\"] \n",
    "jobsByCity = jobsByCity[\"positionName\"].str.split(r\"|\",expand = True);\n",
    "jobsByCity[\"city\"] = tmp;\n",
    "jobsByCity.head()"
   ]
  },
  {
   "cell_type": "code",
   "execution_count": 27,
   "id": "09da3698-6620-474f-ba06-dd11acc203a2",
   "metadata": {},
   "outputs": [
    {
     "data": {
      "text/html": [
       "<div>\n",
       "<style scoped>\n",
       "    .dataframe tbody tr th:only-of-type {\n",
       "        vertical-align: middle;\n",
       "    }\n",
       "\n",
       "    .dataframe tbody tr th {\n",
       "        vertical-align: top;\n",
       "    }\n",
       "\n",
       "    .dataframe thead th {\n",
       "        text-align: right;\n",
       "    }\n",
       "</style>\n",
       "<table border=\"1\" class=\"dataframe\">\n",
       "  <thead>\n",
       "    <tr style=\"text-align: right;\">\n",
       "      <th></th>\n",
       "      <th>city</th>\n",
       "      <th>jobs</th>\n",
       "    </tr>\n",
       "  </thead>\n",
       "  <tbody>\n",
       "    <tr>\n",
       "      <th>0</th>\n",
       "      <td>上海</td>\n",
       "      <td>数据分析师</td>\n",
       "    </tr>\n",
       "    <tr>\n",
       "      <th>1</th>\n",
       "      <td>上海</td>\n",
       "      <td>高级数据分析师</td>\n",
       "    </tr>\n",
       "    <tr>\n",
       "      <th>2</th>\n",
       "      <td>上海</td>\n",
       "      <td>数据分析实习生</td>\n",
       "    </tr>\n",
       "    <tr>\n",
       "      <th>3</th>\n",
       "      <td>上海</td>\n",
       "      <td>资深数据分析师</td>\n",
       "    </tr>\n",
       "    <tr>\n",
       "      <th>4</th>\n",
       "      <td>上海</td>\n",
       "      <td>薪酬数据分析专员</td>\n",
       "    </tr>\n",
       "    <tr>\n",
       "      <th>...</th>\n",
       "      <td>...</td>\n",
       "      <td>...</td>\n",
       "    </tr>\n",
       "    <tr>\n",
       "      <th>1680</th>\n",
       "      <td>重庆</td>\n",
       "      <td>项目运营岗（流程管理）</td>\n",
       "    </tr>\n",
       "    <tr>\n",
       "      <th>1681</th>\n",
       "      <td>重庆</td>\n",
       "      <td>流程专员</td>\n",
       "    </tr>\n",
       "    <tr>\n",
       "      <th>1682</th>\n",
       "      <td>重庆</td>\n",
       "      <td>高级数据架构师</td>\n",
       "    </tr>\n",
       "    <tr>\n",
       "      <th>1683</th>\n",
       "      <td>重庆</td>\n",
       "      <td>软件工程师-实习生</td>\n",
       "    </tr>\n",
       "    <tr>\n",
       "      <th>1684</th>\n",
       "      <td>重庆</td>\n",
       "      <td>策略分析师</td>\n",
       "    </tr>\n",
       "  </tbody>\n",
       "</table>\n",
       "<p>1685 rows × 2 columns</p>\n",
       "</div>"
      ],
      "text/plain": [
       "     city         jobs\n",
       "0      上海        数据分析师\n",
       "1      上海      高级数据分析师\n",
       "2      上海      数据分析实习生\n",
       "3      上海      资深数据分析师\n",
       "4      上海     薪酬数据分析专员\n",
       "...   ...          ...\n",
       "1680   重庆  项目运营岗（流程管理）\n",
       "1681   重庆         流程专员\n",
       "1682   重庆      高级数据架构师\n",
       "1683   重庆    软件工程师-实习生\n",
       "1684   重庆        策略分析师\n",
       "\n",
       "[1685 rows x 2 columns]"
      ]
     },
     "execution_count": 27,
     "metadata": {},
     "output_type": "execute_result"
    }
   ],
   "source": [
    "#先用set_index把city变为索引（用于保留city不被stack变为行内数据），再使用stack将职位列堆叠起来，用droplevel舍弃最开始的index，再用reset_index将city重新变为列,最后用rename重新命名\n",
    "jobsByCity = jobsByCity.set_index(\"city\").stack().droplevel(1).reset_index().rename({0:\"jobs\"},axis = 1);\n",
    "jobsByCity"
   ]
  },
  {
   "cell_type": "code",
   "execution_count": 28,
   "id": "3a5522d9-a8fa-46fb-b69e-d7d1e16f4412",
   "metadata": {},
   "outputs": [
    {
     "data": {
      "image/png": "[encoded data removed]",
      "text/plain": [
       "<Figure size 1152x360 with 1 Axes>"
      ]
     },
     "metadata": {
      "needs_background": "light"
     },
     "output_type": "display_data"
    }
   ],
   "source": [
    "#用cocuntplot绘制图\n",
    "plt.figure(figsize = (16,5));\n",
    "ax = sns.countplot(data = jobsByCity, x = \"city\");\n",
    "_ = ax.set_title(\"不同城市的职位数量\")"
   ]
  },
  {
   "cell_type": "markdown",
   "id": "271adf7a-347f-4023-92ce-b1d19e829369",
   "metadata": {},
   "source": [
    "武汉的职位数量大约位350，超出其他城市至少20%"
   ]
  },
  {
   "cell_type": "markdown",
   "id": "052097f3-b008-4baf-9823-022b08144c19",
   "metadata": {},
   "source": [
    "## 公司融资情况"
   ]
  },
  {
   "cell_type": "code",
   "execution_count": 29,
   "id": "12d01d0e-8f60-4ba1-8d5d-7f59d9a4d03b",
   "metadata": {},
   "outputs": [
    {
     "data": {
      "text/plain": [
       "array(['D轮及以上', '不需要融资', 'A轮', '上市公司', 'B轮', 'C轮', '未融资', '天使轮'],\n",
       "      dtype=object)"
      ]
     },
     "execution_count": 29,
     "metadata": {},
     "output_type": "execute_result"
    }
   ],
   "source": [
    "#查看融资情况的数据格式\n",
    "df.financeStage.unique()"
   ]
  },
  {
   "cell_type": "code",
   "execution_count": 30,
   "id": "5ce4f63d-25e0-450c-802a-02092ccb87f4",
   "metadata": {},
   "outputs": [
    {
     "data": {
      "text/plain": [
       "1471"
      ]
     },
     "execution_count": 30,
     "metadata": {},
     "output_type": "execute_result"
    }
   ],
   "source": [
    "#看一下都有哪些公司,可以使用全称，但接下来将会使用shortname以便让数据更加清晰\n",
    "df.companyShortName.unique().size\n",
    "#发现有许多公司，决定同样使用stack方法制作一个df对象，index为融资情况，column为公司名（细长的一张表）"
   ]
  },
  {
   "cell_type": "code",
   "execution_count": 31,
   "id": "495b62a8-166c-4001-a542-8514c113b3e3",
   "metadata": {},
   "outputs": [
    {
     "data": {
      "text/plain": [
       "financeStage\n",
       "A轮       [京东物流, 中电博亚, 拉克沙LAKSA, 音悦荚, 赛目科技, 悦福享, 集侦云, Da...\n",
       "B轮       [鲸鱼外教培优, 易观, 小帮规划, 哗啦啦, 石墨文档, 斗米, 转转, 数数科技, 欢忻...\n",
       "C轮       [乐约健康, 省钱快报, 果壳, 柏睿数据, 豌豆思维, 轻松集团, 资产360, 掌上先机...\n",
       "D轮及以上    [拉勾网, 字节跳动, 小叶子The ONE, 爱回收, 每日优鲜, 闪送, 唱吧-玩音乐，...\n",
       "上市公司     [小米集团, 360数科, 老虎集团, 贝壳, 掌阅, 紫光教育, 当当网, 赤子城, ca...\n",
       "不需要融资    [欧科云链集团, 民生科技, 边锋, 琥珀创想, 泰康保险集团, Riley Cillian...\n",
       "天使轮      [YoungGee, 众泽睿诚, 想出网络科技, 格蓝威驰科技, 上海荟力, 华信集团, 企...\n",
       "未融资      [微淼财商, 地坪线, Dilato, 硅基远航, 国美金控, 融易推, 越博华阳商务服务,...\n",
       "Name: companyShortName, dtype: object"
      ]
     },
     "execution_count": 31,
     "metadata": {},
     "output_type": "execute_result"
    }
   ],
   "source": [
    "#根据融资情况分组，获取所有公司的名字\n",
    "compByFin = df.groupby(\"financeStage\").companyShortName.unique()\n",
    "compByFin"
   ]
  },
  {
   "cell_type": "code",
   "execution_count": 32,
   "id": "a200c89c-2bb7-4898-8cd9-d23288ae4bf6",
   "metadata": {},
   "outputs": [
    {
     "data": {
      "text/html": [
       "<div>\n",
       "<style scoped>\n",
       "    .dataframe tbody tr th:only-of-type {\n",
       "        vertical-align: middle;\n",
       "    }\n",
       "\n",
       "    .dataframe tbody tr th {\n",
       "        vertical-align: top;\n",
       "    }\n",
       "\n",
       "    .dataframe thead th {\n",
       "        text-align: right;\n",
       "    }\n",
       "</style>\n",
       "<table border=\"1\" class=\"dataframe\">\n",
       "  <thead>\n",
       "    <tr style=\"text-align: right;\">\n",
       "      <th></th>\n",
       "      <th>0</th>\n",
       "      <th>1</th>\n",
       "      <th>2</th>\n",
       "      <th>3</th>\n",
       "      <th>4</th>\n",
       "      <th>5</th>\n",
       "      <th>6</th>\n",
       "      <th>7</th>\n",
       "      <th>8</th>\n",
       "      <th>9</th>\n",
       "      <th>...</th>\n",
       "      <th>423</th>\n",
       "      <th>424</th>\n",
       "      <th>425</th>\n",
       "      <th>426</th>\n",
       "      <th>427</th>\n",
       "      <th>428</th>\n",
       "      <th>429</th>\n",
       "      <th>430</th>\n",
       "      <th>431</th>\n",
       "      <th>financeStage</th>\n",
       "    </tr>\n",
       "  </thead>\n",
       "  <tbody>\n",
       "    <tr>\n",
       "      <th>0</th>\n",
       "      <td>京东物流</td>\n",
       "      <td>中电博亚</td>\n",
       "      <td>拉克沙LAKSA</td>\n",
       "      <td>音悦荚</td>\n",
       "      <td>赛目科技</td>\n",
       "      <td>悦福享</td>\n",
       "      <td>集侦云</td>\n",
       "      <td>DataHunter</td>\n",
       "      <td>粉笔网</td>\n",
       "      <td>普罗</td>\n",
       "      <td>...</td>\n",
       "      <td>None</td>\n",
       "      <td>None</td>\n",
       "      <td>None</td>\n",
       "      <td>None</td>\n",
       "      <td>None</td>\n",
       "      <td>None</td>\n",
       "      <td>None</td>\n",
       "      <td>None</td>\n",
       "      <td>None</td>\n",
       "      <td>A轮</td>\n",
       "    </tr>\n",
       "    <tr>\n",
       "      <th>1</th>\n",
       "      <td>鲸鱼外教培优</td>\n",
       "      <td>易观</td>\n",
       "      <td>小帮规划</td>\n",
       "      <td>哗啦啦</td>\n",
       "      <td>石墨文档</td>\n",
       "      <td>斗米</td>\n",
       "      <td>转转</td>\n",
       "      <td>数数科技</td>\n",
       "      <td>欢忻网络</td>\n",
       "      <td>漫微科技</td>\n",
       "      <td>...</td>\n",
       "      <td>None</td>\n",
       "      <td>None</td>\n",
       "      <td>None</td>\n",
       "      <td>None</td>\n",
       "      <td>None</td>\n",
       "      <td>None</td>\n",
       "      <td>None</td>\n",
       "      <td>None</td>\n",
       "      <td>None</td>\n",
       "      <td>B轮</td>\n",
       "    </tr>\n",
       "    <tr>\n",
       "      <th>2</th>\n",
       "      <td>乐约健康</td>\n",
       "      <td>省钱快报</td>\n",
       "      <td>果壳</td>\n",
       "      <td>柏睿数据</td>\n",
       "      <td>豌豆思维</td>\n",
       "      <td>轻松集团</td>\n",
       "      <td>资产360</td>\n",
       "      <td>掌上先机-旺店通ERP</td>\n",
       "      <td>TalkingData</td>\n",
       "      <td>Trusfort芯盾时代</td>\n",
       "      <td>...</td>\n",
       "      <td>None</td>\n",
       "      <td>None</td>\n",
       "      <td>None</td>\n",
       "      <td>None</td>\n",
       "      <td>None</td>\n",
       "      <td>None</td>\n",
       "      <td>None</td>\n",
       "      <td>None</td>\n",
       "      <td>None</td>\n",
       "      <td>C轮</td>\n",
       "    </tr>\n",
       "    <tr>\n",
       "      <th>3</th>\n",
       "      <td>拉勾网</td>\n",
       "      <td>字节跳动</td>\n",
       "      <td>小叶子The ONE</td>\n",
       "      <td>爱回收</td>\n",
       "      <td>每日优鲜</td>\n",
       "      <td>闪送</td>\n",
       "      <td>唱吧-玩音乐，就上唱吧！</td>\n",
       "      <td>思维造物</td>\n",
       "      <td>北京花房科技有限公司</td>\n",
       "      <td>探探</td>\n",
       "      <td>...</td>\n",
       "      <td>None</td>\n",
       "      <td>None</td>\n",
       "      <td>None</td>\n",
       "      <td>None</td>\n",
       "      <td>None</td>\n",
       "      <td>None</td>\n",
       "      <td>None</td>\n",
       "      <td>None</td>\n",
       "      <td>None</td>\n",
       "      <td>D轮及以上</td>\n",
       "    </tr>\n",
       "    <tr>\n",
       "      <th>4</th>\n",
       "      <td>小米集团</td>\n",
       "      <td>360数科</td>\n",
       "      <td>老虎集团</td>\n",
       "      <td>贝壳</td>\n",
       "      <td>掌阅</td>\n",
       "      <td>紫光教育</td>\n",
       "      <td>当当网</td>\n",
       "      <td>赤子城</td>\n",
       "      <td>capgemini</td>\n",
       "      <td>金山世游</td>\n",
       "      <td>...</td>\n",
       "      <td>None</td>\n",
       "      <td>None</td>\n",
       "      <td>None</td>\n",
       "      <td>None</td>\n",
       "      <td>None</td>\n",
       "      <td>None</td>\n",
       "      <td>None</td>\n",
       "      <td>None</td>\n",
       "      <td>None</td>\n",
       "      <td>上市公司</td>\n",
       "    </tr>\n",
       "    <tr>\n",
       "      <th>5</th>\n",
       "      <td>欧科云链集团</td>\n",
       "      <td>民生科技</td>\n",
       "      <td>边锋</td>\n",
       "      <td>琥珀创想</td>\n",
       "      <td>泰康保险集团</td>\n",
       "      <td>Riley Cillian莱熙科技</td>\n",
       "      <td>滴滴</td>\n",
       "      <td>明翰</td>\n",
       "      <td>北京乐途原动力</td>\n",
       "      <td>高济医疗</td>\n",
       "      <td>...</td>\n",
       "      <td>慧商实业</td>\n",
       "      <td>搜利得</td>\n",
       "      <td>创弘电子商务</td>\n",
       "      <td>西西弗书店</td>\n",
       "      <td>毛毛虫电商</td>\n",
       "      <td>申盾通信</td>\n",
       "      <td>哒啦啦化妆品</td>\n",
       "      <td>星创医药</td>\n",
       "      <td>倍丝露电子商务</td>\n",
       "      <td>不需要融资</td>\n",
       "    </tr>\n",
       "    <tr>\n",
       "      <th>6</th>\n",
       "      <td>YoungGee</td>\n",
       "      <td>众泽睿诚</td>\n",
       "      <td>想出网络科技</td>\n",
       "      <td>格蓝威驰科技</td>\n",
       "      <td>上海荟力</td>\n",
       "      <td>华信集团</td>\n",
       "      <td>企鹅吃喝</td>\n",
       "      <td>医药魔方</td>\n",
       "      <td>数据之家</td>\n",
       "      <td>物界（上海）科技有限公司</td>\n",
       "      <td>...</td>\n",
       "      <td>None</td>\n",
       "      <td>None</td>\n",
       "      <td>None</td>\n",
       "      <td>None</td>\n",
       "      <td>None</td>\n",
       "      <td>None</td>\n",
       "      <td>None</td>\n",
       "      <td>None</td>\n",
       "      <td>None</td>\n",
       "      <td>天使轮</td>\n",
       "    </tr>\n",
       "    <tr>\n",
       "      <th>7</th>\n",
       "      <td>微淼财商</td>\n",
       "      <td>地坪线</td>\n",
       "      <td>Dilato</td>\n",
       "      <td>硅基远航</td>\n",
       "      <td>国美金控</td>\n",
       "      <td>融易推</td>\n",
       "      <td>越博华阳商务服务</td>\n",
       "      <td>储慧国际咨询</td>\n",
       "      <td>佰诺全景</td>\n",
       "      <td>纵横文学</td>\n",
       "      <td>...</td>\n",
       "      <td>None</td>\n",
       "      <td>None</td>\n",
       "      <td>None</td>\n",
       "      <td>None</td>\n",
       "      <td>None</td>\n",
       "      <td>None</td>\n",
       "      <td>None</td>\n",
       "      <td>None</td>\n",
       "      <td>None</td>\n",
       "      <td>未融资</td>\n",
       "    </tr>\n",
       "  </tbody>\n",
       "</table>\n",
       "<p>8 rows × 433 columns</p>\n",
       "</div>"
      ],
      "text/plain": [
       "          0      1           2       3       4                  5  \\\n",
       "0      京东物流   中电博亚    拉克沙LAKSA     音悦荚    赛目科技                悦福享   \n",
       "1    鲸鱼外教培优     易观        小帮规划     哗啦啦    石墨文档                 斗米   \n",
       "2      乐约健康   省钱快报          果壳    柏睿数据    豌豆思维               轻松集团   \n",
       "3       拉勾网   字节跳动  小叶子The ONE     爱回收    每日优鲜                 闪送   \n",
       "4      小米集团  360数科        老虎集团      贝壳      掌阅               紫光教育   \n",
       "5    欧科云链集团   民生科技          边锋    琥珀创想  泰康保险集团  Riley Cillian莱熙科技   \n",
       "6  YoungGee   众泽睿诚      想出网络科技  格蓝威驰科技    上海荟力               华信集团   \n",
       "7      微淼财商    地坪线      Dilato    硅基远航    国美金控                融易推   \n",
       "\n",
       "              6            7            8             9  ...   423   424  \\\n",
       "0           集侦云   DataHunter          粉笔网            普罗  ...  None  None   \n",
       "1            转转         数数科技         欢忻网络          漫微科技  ...  None  None   \n",
       "2         资产360  掌上先机-旺店通ERP  TalkingData  Trusfort芯盾时代  ...  None  None   \n",
       "3  唱吧-玩音乐，就上唱吧！         思维造物   北京花房科技有限公司            探探  ...  None  None   \n",
       "4           当当网          赤子城    capgemini          金山世游  ...  None  None   \n",
       "5            滴滴           明翰      北京乐途原动力          高济医疗  ...  慧商实业   搜利得   \n",
       "6          企鹅吃喝         医药魔方         数据之家  物界（上海）科技有限公司  ...  None  None   \n",
       "7      越博华阳商务服务       储慧国际咨询         佰诺全景          纵横文学  ...  None  None   \n",
       "\n",
       "      425    426    427   428     429   430      431 financeStage  \n",
       "0    None   None   None  None    None  None     None           A轮  \n",
       "1    None   None   None  None    None  None     None           B轮  \n",
       "2    None   None   None  None    None  None     None           C轮  \n",
       "3    None   None   None  None    None  None     None        D轮及以上  \n",
       "4    None   None   None  None    None  None     None         上市公司  \n",
       "5  创弘电子商务  西西弗书店  毛毛虫电商  申盾通信  哒啦啦化妆品  星创医药  倍丝露电子商务        不需要融资  \n",
       "6    None   None   None  None    None  None     None          天使轮  \n",
       "7    None   None   None  None    None  None     None          未融资  \n",
       "\n",
       "[8 rows x 433 columns]"
      ]
     },
     "execution_count": 32,
     "metadata": {},
     "output_type": "execute_result"
    }
   ],
   "source": [
    "#同样的，处理数据使得所有公司分开作为单独列计算\n",
    "compByFin = compByFin.reset_index();\n",
    "compByFin[\"companyShortName\"] = compByFin[\"companyShortName\"].apply(lambda x: \"|\".join(x));\n",
    "tmp = compByFin.financeStage;\n",
    "compByFin = compByFin[\"companyShortName\"].str.split(\"|\",expand = True);\n",
    "compByFin[\"financeStage\"] = tmp;\n",
    "compByFin"
   ]
  },
  {
   "cell_type": "code",
   "execution_count": 33,
   "id": "8ff082db-dbc1-4007-baff-a0983f27af36",
   "metadata": {},
   "outputs": [
    {
     "data": {
      "text/html": [
       "<div>\n",
       "<style scoped>\n",
       "    .dataframe tbody tr th:only-of-type {\n",
       "        vertical-align: middle;\n",
       "    }\n",
       "\n",
       "    .dataframe tbody tr th {\n",
       "        vertical-align: top;\n",
       "    }\n",
       "\n",
       "    .dataframe thead th {\n",
       "        text-align: right;\n",
       "    }\n",
       "</style>\n",
       "<table border=\"1\" class=\"dataframe\">\n",
       "  <thead>\n",
       "    <tr style=\"text-align: right;\">\n",
       "      <th></th>\n",
       "      <th>financeStage</th>\n",
       "      <th>companyShortName</th>\n",
       "    </tr>\n",
       "  </thead>\n",
       "  <tbody>\n",
       "    <tr>\n",
       "      <th>0</th>\n",
       "      <td>A轮</td>\n",
       "      <td>京东物流</td>\n",
       "    </tr>\n",
       "    <tr>\n",
       "      <th>1</th>\n",
       "      <td>A轮</td>\n",
       "      <td>中电博亚</td>\n",
       "    </tr>\n",
       "    <tr>\n",
       "      <th>2</th>\n",
       "      <td>A轮</td>\n",
       "      <td>拉克沙LAKSA</td>\n",
       "    </tr>\n",
       "    <tr>\n",
       "      <th>3</th>\n",
       "      <td>A轮</td>\n",
       "      <td>音悦荚</td>\n",
       "    </tr>\n",
       "    <tr>\n",
       "      <th>4</th>\n",
       "      <td>A轮</td>\n",
       "      <td>赛目科技</td>\n",
       "    </tr>\n",
       "    <tr>\n",
       "      <th>...</th>\n",
       "      <td>...</td>\n",
       "      <td>...</td>\n",
       "    </tr>\n",
       "    <tr>\n",
       "      <th>1468</th>\n",
       "      <td>未融资</td>\n",
       "      <td>重庆渝万传媒集团有限公司</td>\n",
       "    </tr>\n",
       "    <tr>\n",
       "      <th>1469</th>\n",
       "      <td>未融资</td>\n",
       "      <td>悦智峰</td>\n",
       "    </tr>\n",
       "    <tr>\n",
       "      <th>1470</th>\n",
       "      <td>未融资</td>\n",
       "      <td>江小白</td>\n",
       "    </tr>\n",
       "    <tr>\n",
       "      <th>1471</th>\n",
       "      <td>未融资</td>\n",
       "      <td>云易玺</td>\n",
       "    </tr>\n",
       "    <tr>\n",
       "      <th>1472</th>\n",
       "      <td>未融资</td>\n",
       "      <td>博昆软件</td>\n",
       "    </tr>\n",
       "  </tbody>\n",
       "</table>\n",
       "<p>1473 rows × 2 columns</p>\n",
       "</div>"
      ],
      "text/plain": [
       "     financeStage companyShortName\n",
       "0              A轮             京东物流\n",
       "1              A轮             中电博亚\n",
       "2              A轮         拉克沙LAKSA\n",
       "3              A轮              音悦荚\n",
       "4              A轮             赛目科技\n",
       "...           ...              ...\n",
       "1468          未融资     重庆渝万传媒集团有限公司\n",
       "1469          未融资              悦智峰\n",
       "1470          未融资              江小白\n",
       "1471          未融资              云易玺\n",
       "1472          未融资             博昆软件\n",
       "\n",
       "[1473 rows x 2 columns]"
      ]
     },
     "execution_count": 33,
     "metadata": {},
     "output_type": "execute_result"
    }
   ],
   "source": [
    "#与“不同城市职位数量”一样的做法\n",
    "compByFin = compByFin.set_index(\"financeStage\").stack().droplevel(1).reset_index().rename({0:\"companyShortName\"},axis = 1);\n",
    "compByFin\n",
    "#这里可以看到所有公司的融资情况"
   ]
  },
  {
   "cell_type": "code",
   "execution_count": 34,
   "id": "73e0b679-43df-43df-991b-dccd764143ae",
   "metadata": {},
   "outputs": [
    {
     "data": {
      "image/png": "[encoded data removed]",
      "text/plain": [
       "<Figure size 1152x360 with 1 Axes>"
      ]
     },
     "metadata": {
      "needs_background": "light"
     },
     "output_type": "display_data"
    }
   ],
   "source": [
    "#用cocuntplot绘制图\n",
    "plt.figure(figsize = (16,5));\n",
    "ax = sns.countplot(data = compByFin, x = \"financeStage\");\n",
    "_ = ax.set_title(\"不同融资情况的公司数量\")"
   ]
  },
  {
   "cell_type": "markdown",
   "id": "11fecf7f-e40e-496c-b941-c1682d5428d5",
   "metadata": {},
   "source": [
    "按排名，不需要融资，未融资，和上市公司的数量最多"
   ]
  },
  {
   "cell_type": "markdown",
   "id": "8b004b87-0eeb-4ed4-a381-b3496e9c92a4",
   "metadata": {},
   "source": [
    "## 不同行业公司数量"
   ]
  },
  {
   "cell_type": "code",
   "execution_count": 35,
   "id": "9854ec7a-2c97-4f00-ae94-d8deeb04b6d9",
   "metadata": {},
   "outputs": [
    {
     "data": {
      "text/plain": [
       "4"
      ]
     },
     "execution_count": 35,
     "metadata": {},
     "output_type": "execute_result"
    }
   ],
   "source": [
    "#有4个缺省值，可以直接舍弃\n",
    "df[\"industryField\"].isnull().sum()"
   ]
  },
  {
   "cell_type": "code",
   "execution_count": 36,
   "id": "ed466ab3-55ad-4567-b2c3-7f75bb036355",
   "metadata": {},
   "outputs": [],
   "source": [
    "df.dropna(subset=[\"industryField\"],inplace = True)"
   ]
  },
  {
   "cell_type": "code",
   "execution_count": 37,
   "id": "3740749d-be61-4f5d-aea8-2021d7127ff1",
   "metadata": {},
   "outputs": [
    {
     "data": {
      "text/plain": [
       "array(['企业服务', '内容资讯,短视频', '区块链', '工具类产品,在线教育', '金融业,科技金融', '物流｜运输', '游戏',\n",
       "       '工具类产品', '在线教育', '智能硬件,电商平台', '科技金融', '电商平台', '居住服务',\n",
       "       '内容社区,音频｜视频媒体', '人工智能服务', '物流平台', '内容社区', '金融业', '社交媒体', '旅游｜出行',\n",
       "       '数据服务｜咨询', '移动互联网,游戏', '移动互联网,企业服务', '移动互联网,社交', '软件服务｜咨询', '社交平台',\n",
       "       '营销服务｜咨询', '教育、数据服务', '新零售,电商平台', '专业服务｜咨询', '生活服务', '移动互联网,电商',\n",
       "       'IT技术服务｜咨询', '影视｜动漫', '教育｜培训', '短视频', '内容资讯,社交媒体', '软件服务｜咨询,在线医疗',\n",
       "       '内容资讯,游戏,音频｜视频媒体', '短视频,新零售', '金融', '音频｜视频媒体', '制造业', 'MCN｜直播平台',\n",
       "       '其他', '分类信息,消费生活', '软件服务｜咨询,数据服务｜咨询,人工智能服务', '数据服务｜咨询,营销服务｜咨询',\n",
       "       '工具类产品,软件服务｜咨询', '汽车交易平台', '物联网', '硬件,软件开发', '硬件,电商', '内容资讯',\n",
       "       '数据服务｜咨询,营销服务｜咨询,IT技术服务｜咨询', '教育', '通讯电子', '旅游｜出行,生活服务',\n",
       "       '移动互联网,其他', 'IT技术服务｜咨询,智能硬件,能源｜矿产｜环保', '旅游', '医疗丨健康,企业服务',\n",
       "       'IT技术服务｜咨询,软件服务｜咨询,数据服务｜咨询', '移动互联网,数据服务', '工具类产品,信息检索,信息安全',\n",
       "       '企业服务,广告营销', '移动互联网,消费生活', '消费生活', '电商', '软件服务｜咨询,IT技术服务｜咨询',\n",
       "       '房地产｜建筑｜物业', '数据服务｜咨询,人工智能服务', '软件服务｜咨询,智能硬件', '汽车丨出行',\n",
       "       '人工智能服务,智能硬件', 'IT技术服务｜咨询,物联网', '新媒体', '工具类产品,智能硬件',\n",
       "       '科技金融,人工智能服务,软件服务｜咨询', '人工智能服务,信息检索,科技金融', '批发｜零售,贸易｜进出口,消费生活',\n",
       "       '游戏,社交平台', '社交平台,MCN｜直播平台', '工具类产品,内容资讯', '新媒体,文化传媒',\n",
       "       '数据服务｜咨询,IT技术服务｜咨询', 'MCN｜直播平台,新媒体', '软件服务｜咨询,信息安全', '社交平台,内容社区',\n",
       "       '移动互联网', '软件服务｜咨询,专业服务｜咨询', '社交媒体,营销服务｜咨询,数据服务｜咨询',\n",
       "       '科技金融,IT技术服务｜咨询', '移动互联网,教育', '医疗丨健康,移动互联网', '旅游｜出行,软件服务｜咨询',\n",
       "       '金融,移动互联网', '游戏,社交媒体', '电商,数据服务', '科技金融,人工智能服务',\n",
       "       '人工智能服务,IT技术服务｜咨询,网络通信', '软件服务｜咨询,人工智能服务', '金融,人工智能', '金融,数据服务',\n",
       "       '游戏,内容社区', '游戏,MCN｜直播平台', '人工智能服务,游戏', '信息安全', '制造业,内容社区',\n",
       "       '内容资讯,文化传媒', '电商平台,内容社区', '内容资讯,工具类产品', '电商平台,营销服务｜咨询', '分类信息',\n",
       "       '数据服务,其他', '在线医疗', '智能硬件,新零售,电商平台', '金融,游戏', '文娱丨内容', '医疗｜保健｜美容',\n",
       "       '数据服务,广告营销', '人工智能服务,新能源汽车制造,批发｜零售', '文化传媒,音频｜视频媒体',\n",
       "       '房地产｜建筑｜物业,居住服务', '消费生活,其他', '数据服务｜咨询,人工智能服务,物联网', '休闲｜娱乐,内容资讯',\n",
       "       '房产家居', 'IT技术服务｜咨询,软件服务｜咨询', '智能硬件', '人工智能服务,数据服务｜咨询',\n",
       "       '营销服务｜咨询,文化传媒', '软件开发', '科技金融,内容社区', '旅游,移动互联网',\n",
       "       '智能硬件,人工智能服务,软件服务｜咨询', 'IT技术服务｜咨询,人工智能服务,数据服务｜咨询', '旅游｜出行,科技金融',\n",
       "       '新零售,工具类产品', '数据服务', '内容社区,游戏', '软件服务｜咨询,营销服务｜咨询', '电商平台,科技金融',\n",
       "       '营销服务｜咨询,软件服务｜咨询', '游戏 文娱丨内容', '企业服务,数据服务', '科技金融,消费生活', '教育,企业服务',\n",
       "       '新能源汽车制造', '电商平台,软件服务｜咨询', '物流平台,物流｜运输', '音频｜视频媒体,短视频,影视｜动漫',\n",
       "       '电商平台,工具类产品,科技金融', '电商,金融', '批发｜零售,贸易｜进出口', '科技金融,软件服务｜咨询',\n",
       "       '数据服务,电商', '新零售', '电商,移动互联网', '人工智能服务,IT技术服务｜咨询', '金融,企业服务',\n",
       "       '游戏,社交媒体,音频｜视频媒体', '电商平台,消费生活', '文化传媒', '数据服务、教育', '教育,数据服务',\n",
       "       '电商平台,制造业', '电商,通讯电子', '批发｜零售', '电商,广告营销', '人工智能服务,在线医疗',\n",
       "       '电商平台,能源｜矿产｜环保', '网络通信', '软件服务｜咨询,IT技术服务｜咨询,人工智能服务',\n",
       "       '软件服务｜咨询,工具类产品', '硬件,区块链', '电商平台,工具类产品,软件服务｜咨询', '服务业',\n",
       "       'MCN｜直播平台,营销服务｜咨询', '社交媒体,MCN｜直播平台', '人工智能服务,软件服务｜咨询',\n",
       "       '电商平台,人工智能服务,贸易｜进出口', '营销服务｜咨询,电商平台', '人工智能服务,IT技术服务｜咨询,物联网',\n",
       "       '数据服务｜咨询,人工智能服务,工具类产品', '游戏,软件服务｜咨询', '硬件', '智能硬件,人工智能服务,物联网',\n",
       "       '物联网,物流平台,电商平台', 'IT技术服务｜咨询,人工智能服务', '企业服务,移动互联网',\n",
       "       '工具类产品,内容社区,音频｜视频媒体', '汽车交易平台,新能源汽车制造,专业服务｜咨询', '生活服务,旅游｜出行',\n",
       "       '贸易｜进出口', '电商,社交', '游戏,在线教育', '制造业,智能硬件', '制造业,批发｜零售,贸易｜进出口',\n",
       "       '电商平台,内容资讯', '移动互联网,文娱丨内容', '消费生活,物流丨运输', '数据服务,硬件', '电商,汽车丨出行',\n",
       "       '软件服务｜咨询,数据服务｜咨询,营销服务｜咨询', '广告营销,数据服务', '居住服务,生活服务', '电商,医疗丨健康',\n",
       "       '企业服务,医疗丨健康', '软件服务｜咨询,数据服务｜咨询,IT技术服务｜咨询', '企业服务,软件开发', '其他,金融',\n",
       "       '物流丨运输', 'IT技术服务｜咨询、软件服务｜咨询、数据服务｜咨询', '数据服务,软件开发', '数据服务、人工智能',\n",
       "       '电商,消费生活', '人工智能服务,信息安全', '数据服务,信息安全', '人工智能服务,区块链', '人工智能服务,物联网',\n",
       "       '人工智能,汽车丨出行', '移动互联网,金融', '消费生活,移动互联网', 'IT技术服务｜咨询,营销服务｜咨询',\n",
       "       '在线教育,工具类产品,内容社区', '信息安全,IT技术服务｜咨询', '在线教育,教育｜培训', '金融,软件开发',\n",
       "       '企业服务,人工智能', '文娱丨内容,消费生活', '数据服务,人工智能', '医疗丨健康,消费生活', '移动互联网,信息安全',\n",
       "       '营销服务｜咨询,消费生活', '电商,软件开发', '教育,移动互联网', '区块链,数据服务｜咨询', '电商,企业服务',\n",
       "       '金融,其他', '金融,文娱丨内容', '医疗丨健康,数据服务', 'IT技术服务｜咨询,数据服务｜咨询', '教育、软件开发',\n",
       "       '音频｜视频媒体,新媒体,内容资讯', '数据服务｜咨询,物联网,物流｜运输', '其他,消费生活', '移动互联网,医疗丨健康',\n",
       "       '移动互联网 信息安全', '营销服务｜咨询,IT技术服务｜咨询', '不限', '医疗丨健康,电商', '广告营销',\n",
       "       '医疗丨健康', '信息安全,移动互联网', '消费生活,科技金融', '房产家居,其他', '物联网、数据服务',\n",
       "       '内容资讯,营销服务｜咨询,IT技术服务｜咨询', '教育｜培训,软件服务｜咨询', '营销服务｜咨询、科技金融',\n",
       "       '移动互联网,广告营销', '短视频,MCN｜直播平台,文化传媒', '智能硬件,IT技术服务｜咨询,制造业', '电商、社交',\n",
       "       '电商平台,IT技术服务｜咨询', '软件服务｜咨询,汽车交易平台', '电商平台,数据服务｜咨询',\n",
       "       '人工智能服务,物联网,智能硬件', '其他,移动互联网', '批发｜零售,贸易｜进出口,电商平台',\n",
       "       '工具类产品,专业服务｜咨询', '消费生活,电商', '消费生活,金融', '教育,其他', '企业服务,信息安全',\n",
       "       '企业服务,社交', '电商平台,在线医疗', '消费生活,生活服务,居住服务', '物流丨运输,数据服务',\n",
       "       '软件服务｜咨询,数据服务｜咨询', '文化传媒,新媒体', '数据服务｜咨询,房地产｜建筑｜物业', '电商,硬件',\n",
       "       '数据服务｜咨询,物联网', '移动互联网,硬件', '通讯电子、物联网', '短视频,音频｜视频媒体,文化传媒',\n",
       "       '数据服务｜咨询,营销服务｜咨询,新媒体', '人工智能', '物联网,数据服务｜咨询', '电商平台,批发｜零售,贸易｜进出口',\n",
       "       '数据服务｜咨询,人工智能服务,IT技术服务｜咨询', 'IT技术服务｜咨询,软件服务｜咨询,网络通信',\n",
       "       '居住服务,专业服务｜咨询,房地产｜建筑｜物业', '游戏,软件开发', '营销服务｜咨询,数据服务｜咨询',\n",
       "       '旅游｜出行,智能硬件', '人工智能服务,工具类产品', '人工智能,物联网', '文娱丨内容,游戏',\n",
       "       '电商平台,社交平台,社交媒体', '软件开发,医疗丨健康', '游戏,文娱丨内容', '游戏,人工智能服务',\n",
       "       '在线教育,教育｜培训,专业服务｜咨询', '企业服务,教育', '软件服务｜咨询,IT技术服务｜咨询,营销服务｜咨询',\n",
       "       '教育,软件开发', '营销服务｜咨询,MCN｜直播平台,文化传媒', '游戏,工具类产品', '消费生活,软件开发',\n",
       "       '数据服务｜咨询,工具类产品', '智能硬件,人工智能服务', '数据服务 信息安全', '科技金融,专业服务｜咨询,金融业',\n",
       "       '医疗｜保健｜美容,贸易｜进出口', '信息安全,数据服务', '文娱丨内容,移动互联网', '电商,其他', '社交,消费生活',\n",
       "       '电商,文娱丨内容', '智能硬件,数据服务｜咨询', '人工智能服务,智能硬件,物联网', '音频｜视频媒体,短视频',\n",
       "       '社交平台,电商平台', '工具类产品,社交平台', '电商、数据服务', '物联网,智能硬件', '移动互联网,旅游',\n",
       "       '人工智能服务,数据服务｜咨询,软件服务｜咨询', '人工智能服务,软件服务｜咨询,营销服务｜咨询', '人工智能,企业服务',\n",
       "       'IT技术服务｜咨询,工具类产品', '数据服务｜咨询,游戏', '游戏,移动互联网', '电商平台,工具类产品',\n",
       "       '企业服务,硬件', 'IT技术服务｜咨询,社交媒体,医疗｜保健｜美容', '数据服务｜咨询,软件服务｜咨询',\n",
       "       '信息安全,区块链', '营销服务｜咨询,内容资讯', '软件服务｜咨询,电商平台',\n",
       "       '教育｜培训,IT技术服务｜咨询,营销服务｜咨询', 'MCN｜直播平台,文化传媒', '制造业,数据服务｜咨询',\n",
       "       '软件服务｜咨询,IT技术服务｜咨询,科技金融', 'IT技术服务｜咨询,制造业,物联网', '社交,工具',\n",
       "       '生活服务,消费生活', '在线教育,智能硬件', '社交,软件开发', '数据服务｜咨询,IT技术服务｜咨询,在线教育',\n",
       "       '信息安全,数据服务｜咨询', '软件服务｜咨询,物联网', '电商,教育', '软件服务｜咨询,数据服务｜咨询,物联网',\n",
       "       '电商、广告营销', '物联网,数据服务｜咨询,区块链', '数据服务｜咨询,IT技术服务｜咨询,科技金融',\n",
       "       '专业服务｜咨询,营销服务｜咨询,数据服务｜咨询', '批发｜零售,贸易｜进出口,制造业',\n",
       "       '生活服务,专业服务｜咨询,能源｜矿产｜环保', 'IT技术服务｜咨询,能源｜矿产｜环保',\n",
       "       'IT技术服务｜咨询,人工智能服务,物联网', '软件开发、物联网', '信息安全,其他', '移动互联网,人工智能',\n",
       "       '物联网,人工智能服务', '内容资讯,医疗｜保健｜美容', '医疗｜保健｜美容,网络通信', '新媒体,社交平台',\n",
       "       '人工智能,软件开发', '软件服务｜咨询,生活服务,休闲｜娱乐', '文娱丨内容、电商', '营销服务｜咨询,新媒体',\n",
       "       '新零售,房地产｜建筑｜物业', '电商,游戏', '企业服务 不限', '汽车丨出行,物联网', '企业服务,其他',\n",
       "       '电子商务', '工具类产品,消费生活', '新媒体,文化传媒,音频｜视频媒体',\n",
       "       '数据服务｜咨询,营销服务｜咨询,专业服务｜咨询', '电商平台,新零售', '社交网络', '电商,区块链', '其他、信息安全'],\n",
       "      dtype=object)"
      ]
     },
     "execution_count": 37,
     "metadata": {},
     "output_type": "execute_result"
    }
   ],
   "source": [
    "#发现格式一般都是行业之间用,或者|分割开\n",
    "df.industryField.unique()"
   ]
  },
  {
   "cell_type": "code",
   "execution_count": 38,
   "id": "92a85bb2-aa29-4a45-a2da-a55c5646d04e",
   "metadata": {},
   "outputs": [
    {
     "data": {
      "text/html": [
       "<div>\n",
       "<style scoped>\n",
       "    .dataframe tbody tr th:only-of-type {\n",
       "        vertical-align: middle;\n",
       "    }\n",
       "\n",
       "    .dataframe tbody tr th {\n",
       "        vertical-align: top;\n",
       "    }\n",
       "\n",
       "    .dataframe thead th {\n",
       "        text-align: right;\n",
       "    }\n",
       "</style>\n",
       "<table border=\"1\" class=\"dataframe\">\n",
       "  <thead>\n",
       "    <tr style=\"text-align: right;\">\n",
       "      <th></th>\n",
       "      <th>companyShortName</th>\n",
       "      <th>industryField</th>\n",
       "    </tr>\n",
       "  </thead>\n",
       "  <tbody>\n",
       "    <tr>\n",
       "      <th>0</th>\n",
       "      <td>拉勾网</td>\n",
       "      <td>企业服务</td>\n",
       "    </tr>\n",
       "    <tr>\n",
       "      <th>1</th>\n",
       "      <td>字节跳动</td>\n",
       "      <td>内容资讯,短视频</td>\n",
       "    </tr>\n",
       "    <tr>\n",
       "      <th>2</th>\n",
       "      <td>欧科云链集团</td>\n",
       "      <td>区块链</td>\n",
       "    </tr>\n",
       "    <tr>\n",
       "      <th>3</th>\n",
       "      <td>欧科云链集团</td>\n",
       "      <td>区块链</td>\n",
       "    </tr>\n",
       "    <tr>\n",
       "      <th>4</th>\n",
       "      <td>拉勾网</td>\n",
       "      <td>工具类产品,在线教育</td>\n",
       "    </tr>\n",
       "  </tbody>\n",
       "</table>\n",
       "</div>"
      ],
      "text/plain": [
       "  companyShortName industryField\n",
       "0              拉勾网          企业服务\n",
       "1             字节跳动      内容资讯,短视频\n",
       "2           欧科云链集团           区块链\n",
       "3           欧科云链集团           区块链\n",
       "4              拉勾网    工具类产品,在线教育"
      ]
     },
     "execution_count": 38,
     "metadata": {},
     "output_type": "execute_result"
    }
   ],
   "source": [
    "#提取需要的两列(公司，行业)\n",
    "tmp = df[[\"companyShortName\",\"industryField\"]]\n",
    "tmp.head()"
   ]
  },
  {
   "cell_type": "code",
   "execution_count": 39,
   "id": "3ccc482f-cff9-4527-9342-075f753ee479",
   "metadata": {},
   "outputs": [
    {
     "data": {
      "text/html": [
       "<div>\n",
       "<style scoped>\n",
       "    .dataframe tbody tr th:only-of-type {\n",
       "        vertical-align: middle;\n",
       "    }\n",
       "\n",
       "    .dataframe tbody tr th {\n",
       "        vertical-align: top;\n",
       "    }\n",
       "\n",
       "    .dataframe thead th {\n",
       "        text-align: right;\n",
       "    }\n",
       "</style>\n",
       "<table border=\"1\" class=\"dataframe\">\n",
       "  <thead>\n",
       "    <tr style=\"text-align: right;\">\n",
       "      <th></th>\n",
       "      <th>0</th>\n",
       "      <th>1</th>\n",
       "      <th>2</th>\n",
       "      <th>3</th>\n",
       "      <th>4</th>\n",
       "      <th>5</th>\n",
       "      <th>company</th>\n",
       "    </tr>\n",
       "  </thead>\n",
       "  <tbody>\n",
       "    <tr>\n",
       "      <th>0</th>\n",
       "      <td>企业服务</td>\n",
       "      <td>None</td>\n",
       "      <td>None</td>\n",
       "      <td>None</td>\n",
       "      <td>None</td>\n",
       "      <td>None</td>\n",
       "      <td>拉勾网</td>\n",
       "    </tr>\n",
       "    <tr>\n",
       "      <th>1</th>\n",
       "      <td>内容资讯</td>\n",
       "      <td>短视频</td>\n",
       "      <td>None</td>\n",
       "      <td>None</td>\n",
       "      <td>None</td>\n",
       "      <td>None</td>\n",
       "      <td>字节跳动</td>\n",
       "    </tr>\n",
       "    <tr>\n",
       "      <th>2</th>\n",
       "      <td>区块链</td>\n",
       "      <td>None</td>\n",
       "      <td>None</td>\n",
       "      <td>None</td>\n",
       "      <td>None</td>\n",
       "      <td>None</td>\n",
       "      <td>欧科云链集团</td>\n",
       "    </tr>\n",
       "    <tr>\n",
       "      <th>3</th>\n",
       "      <td>区块链</td>\n",
       "      <td>None</td>\n",
       "      <td>None</td>\n",
       "      <td>None</td>\n",
       "      <td>None</td>\n",
       "      <td>None</td>\n",
       "      <td>欧科云链集团</td>\n",
       "    </tr>\n",
       "    <tr>\n",
       "      <th>4</th>\n",
       "      <td>工具类产品</td>\n",
       "      <td>在线教育</td>\n",
       "      <td>None</td>\n",
       "      <td>None</td>\n",
       "      <td>None</td>\n",
       "      <td>None</td>\n",
       "      <td>拉勾网</td>\n",
       "    </tr>\n",
       "    <tr>\n",
       "      <th>...</th>\n",
       "      <td>...</td>\n",
       "      <td>...</td>\n",
       "      <td>...</td>\n",
       "      <td>...</td>\n",
       "      <td>...</td>\n",
       "      <td>...</td>\n",
       "      <td>...</td>\n",
       "    </tr>\n",
       "    <tr>\n",
       "      <th>3175</th>\n",
       "      <td>游戏</td>\n",
       "      <td>社交媒体</td>\n",
       "      <td>音频</td>\n",
       "      <td>视频媒体</td>\n",
       "      <td>None</td>\n",
       "      <td>None</td>\n",
       "      <td>腾讯</td>\n",
       "    </tr>\n",
       "    <tr>\n",
       "      <th>3176</th>\n",
       "      <td>数据服务</td>\n",
       "      <td>咨询</td>\n",
       "      <td>None</td>\n",
       "      <td>None</td>\n",
       "      <td>None</td>\n",
       "      <td>None</td>\n",
       "      <td>药智网</td>\n",
       "    </tr>\n",
       "    <tr>\n",
       "      <th>3177</th>\n",
       "      <td>数据服务</td>\n",
       "      <td>咨询</td>\n",
       "      <td>None</td>\n",
       "      <td>None</td>\n",
       "      <td>None</td>\n",
       "      <td>None</td>\n",
       "      <td>药智网</td>\n",
       "    </tr>\n",
       "    <tr>\n",
       "      <th>3178</th>\n",
       "      <td>金融</td>\n",
       "      <td>None</td>\n",
       "      <td>None</td>\n",
       "      <td>None</td>\n",
       "      <td>None</td>\n",
       "      <td>None</td>\n",
       "      <td>重庆道微投资</td>\n",
       "    </tr>\n",
       "    <tr>\n",
       "      <th>3179</th>\n",
       "      <td>金融</td>\n",
       "      <td>None</td>\n",
       "      <td>None</td>\n",
       "      <td>None</td>\n",
       "      <td>None</td>\n",
       "      <td>None</td>\n",
       "      <td>重庆道微投资</td>\n",
       "    </tr>\n",
       "  </tbody>\n",
       "</table>\n",
       "<p>3175 rows × 7 columns</p>\n",
       "</div>"
      ],
      "text/plain": [
       "          0     1     2     3     4     5 company\n",
       "0      企业服务  None  None  None  None  None     拉勾网\n",
       "1      内容资讯   短视频  None  None  None  None    字节跳动\n",
       "2       区块链  None  None  None  None  None  欧科云链集团\n",
       "3       区块链  None  None  None  None  None  欧科云链集团\n",
       "4     工具类产品  在线教育  None  None  None  None     拉勾网\n",
       "...     ...   ...   ...   ...   ...   ...     ...\n",
       "3175     游戏  社交媒体    音频  视频媒体  None  None      腾讯\n",
       "3176   数据服务    咨询  None  None  None  None     药智网\n",
       "3177   数据服务    咨询  None  None  None  None     药智网\n",
       "3178     金融  None  None  None  None  None  重庆道微投资\n",
       "3179     金融  None  None  None  None  None  重庆道微投资\n",
       "\n",
       "[3175 rows x 7 columns]"
      ]
     },
     "execution_count": 39,
     "metadata": {},
     "output_type": "execute_result"
    }
   ],
   "source": [
    "#用str.split方法分割行业（一开始以为只有逗号和|，经过后面的分析才发现总共有5种分割的格式）\n",
    "company = tmp.companyShortName;\n",
    "tmp = tmp.industryField.str.split(r\"[,｜丨、\\s]\",expand=True);\n",
    "tmp[\"company\"] = company;\n",
    "tmp"
   ]
  },
  {
   "cell_type": "code",
   "execution_count": 40,
   "id": "7eda2283-cc2c-4716-97f7-955af3a0b7dc",
   "metadata": {},
   "outputs": [
    {
     "data": {
      "text/html": [
       "<div>\n",
       "<style scoped>\n",
       "    .dataframe tbody tr th:only-of-type {\n",
       "        vertical-align: middle;\n",
       "    }\n",
       "\n",
       "    .dataframe tbody tr th {\n",
       "        vertical-align: top;\n",
       "    }\n",
       "\n",
       "    .dataframe thead th {\n",
       "        text-align: right;\n",
       "    }\n",
       "</style>\n",
       "<table border=\"1\" class=\"dataframe\">\n",
       "  <thead>\n",
       "    <tr style=\"text-align: right;\">\n",
       "      <th></th>\n",
       "      <th>company</th>\n",
       "      <th>Field</th>\n",
       "    </tr>\n",
       "  </thead>\n",
       "  <tbody>\n",
       "    <tr>\n",
       "      <th>0</th>\n",
       "      <td>拉勾网</td>\n",
       "      <td>企业服务</td>\n",
       "    </tr>\n",
       "    <tr>\n",
       "      <th>1</th>\n",
       "      <td>字节跳动</td>\n",
       "      <td>内容资讯</td>\n",
       "    </tr>\n",
       "    <tr>\n",
       "      <th>2</th>\n",
       "      <td>字节跳动</td>\n",
       "      <td>短视频</td>\n",
       "    </tr>\n",
       "    <tr>\n",
       "      <th>3</th>\n",
       "      <td>欧科云链集团</td>\n",
       "      <td>区块链</td>\n",
       "    </tr>\n",
       "    <tr>\n",
       "      <th>4</th>\n",
       "      <td>欧科云链集团</td>\n",
       "      <td>区块链</td>\n",
       "    </tr>\n",
       "    <tr>\n",
       "      <th>...</th>\n",
       "      <td>...</td>\n",
       "      <td>...</td>\n",
       "    </tr>\n",
       "    <tr>\n",
       "      <th>5876</th>\n",
       "      <td>药智网</td>\n",
       "      <td>咨询</td>\n",
       "    </tr>\n",
       "    <tr>\n",
       "      <th>5877</th>\n",
       "      <td>药智网</td>\n",
       "      <td>数据服务</td>\n",
       "    </tr>\n",
       "    <tr>\n",
       "      <th>5878</th>\n",
       "      <td>药智网</td>\n",
       "      <td>咨询</td>\n",
       "    </tr>\n",
       "    <tr>\n",
       "      <th>5879</th>\n",
       "      <td>重庆道微投资</td>\n",
       "      <td>金融</td>\n",
       "    </tr>\n",
       "    <tr>\n",
       "      <th>5880</th>\n",
       "      <td>重庆道微投资</td>\n",
       "      <td>金融</td>\n",
       "    </tr>\n",
       "  </tbody>\n",
       "</table>\n",
       "<p>5881 rows × 2 columns</p>\n",
       "</div>"
      ],
      "text/plain": [
       "     company Field\n",
       "0        拉勾网  企业服务\n",
       "1       字节跳动  内容资讯\n",
       "2       字节跳动   短视频\n",
       "3     欧科云链集团   区块链\n",
       "4     欧科云链集团   区块链\n",
       "...      ...   ...\n",
       "5876     药智网    咨询\n",
       "5877     药智网  数据服务\n",
       "5878     药智网    咨询\n",
       "5879  重庆道微投资    金融\n",
       "5880  重庆道微投资    金融\n",
       "\n",
       "[5881 rows x 2 columns]"
      ]
     },
     "execution_count": 40,
     "metadata": {},
     "output_type": "execute_result"
    }
   ],
   "source": [
    "#设置公司为index来将其排除stack的作用范围，用stack将所有行业转换成一列，用droplevel舍弃无用的默认索引，用reset_index将公司名改回列以方便制表\n",
    "tmp = tmp.set_index(\"company\").stack().droplevel(1).reset_index().rename({0:\"Field\"},axis = 1);\n",
    "tmp"
   ]
  },
  {
   "cell_type": "code",
   "execution_count": 41,
   "id": "e09921ef-635a-4397-8c38-55a41c565768",
   "metadata": {},
   "outputs": [
    {
     "data": {
      "text/html": [
       "<div>\n",
       "<style scoped>\n",
       "    .dataframe tbody tr th:only-of-type {\n",
       "        vertical-align: middle;\n",
       "    }\n",
       "\n",
       "    .dataframe tbody tr th {\n",
       "        vertical-align: top;\n",
       "    }\n",
       "\n",
       "    .dataframe thead th {\n",
       "        text-align: right;\n",
       "    }\n",
       "</style>\n",
       "<table border=\"1\" class=\"dataframe\">\n",
       "  <thead>\n",
       "    <tr style=\"text-align: right;\">\n",
       "      <th></th>\n",
       "      <th>Field</th>\n",
       "      <th>count</th>\n",
       "    </tr>\n",
       "  </thead>\n",
       "  <tbody>\n",
       "    <tr>\n",
       "      <th>0</th>\n",
       "      <td>IT技术服务</td>\n",
       "      <td>165</td>\n",
       "    </tr>\n",
       "    <tr>\n",
       "      <th>1</th>\n",
       "      <td>MCN</td>\n",
       "      <td>28</td>\n",
       "    </tr>\n",
       "    <tr>\n",
       "      <th>2</th>\n",
       "      <td>不限</td>\n",
       "      <td>3</td>\n",
       "    </tr>\n",
       "    <tr>\n",
       "      <th>3</th>\n",
       "      <td>专业服务</td>\n",
       "      <td>40</td>\n",
       "    </tr>\n",
       "    <tr>\n",
       "      <th>4</th>\n",
       "      <td>人工智能</td>\n",
       "      <td>23</td>\n",
       "    </tr>\n",
       "    <tr>\n",
       "      <th>...</th>\n",
       "      <td>...</td>\n",
       "      <td>...</td>\n",
       "    </tr>\n",
       "    <tr>\n",
       "      <th>79</th>\n",
       "      <td>通讯电子</td>\n",
       "      <td>6</td>\n",
       "    </tr>\n",
       "    <tr>\n",
       "      <th>80</th>\n",
       "      <td>金融</td>\n",
       "      <td>79</td>\n",
       "    </tr>\n",
       "    <tr>\n",
       "      <th>81</th>\n",
       "      <td>金融业</td>\n",
       "      <td>51</td>\n",
       "    </tr>\n",
       "    <tr>\n",
       "      <th>82</th>\n",
       "      <td>零售</td>\n",
       "      <td>38</td>\n",
       "    </tr>\n",
       "    <tr>\n",
       "      <th>83</th>\n",
       "      <td>音频</td>\n",
       "      <td>119</td>\n",
       "    </tr>\n",
       "  </tbody>\n",
       "</table>\n",
       "<p>84 rows × 2 columns</p>\n",
       "</div>"
      ],
      "text/plain": [
       "     Field  count\n",
       "0   IT技术服务    165\n",
       "1      MCN     28\n",
       "2       不限      3\n",
       "3     专业服务     40\n",
       "4     人工智能     23\n",
       "..     ...    ...\n",
       "79    通讯电子      6\n",
       "80      金融     79\n",
       "81     金融业     51\n",
       "82      零售     38\n",
       "83      音频    119\n",
       "\n",
       "[84 rows x 2 columns]"
      ]
     },
     "execution_count": 41,
     "metadata": {},
     "output_type": "execute_result"
    }
   ],
   "source": [
    "#按照行业对公司进行分组\n",
    "companyByField = tmp.groupby(\"Field\");\n",
    "#统计不同行业的公司数量\n",
    "counts = pd.DataFrame(companyByField.count()).reset_index().rename({\"company\":\"count\"},axis = 1);\n",
    "counts"
   ]
  },
  {
   "cell_type": "code",
   "execution_count": 42,
   "id": "7c9ed711-949f-4e71-ab71-8176c1a58859",
   "metadata": {},
   "outputs": [
    {
     "data": {
      "image/png": "[encoded data removed]",
      "text/plain": [
       "<Figure size 1440x360 with 1 Axes>"
      ]
     },
     "metadata": {
      "needs_background": "light"
     },
     "output_type": "display_data"
    }
   ],
   "source": [
    "#绘图,因为总共有103个行业，仅绘制最热门的10个行业\n",
    "counts.sort_values(by = \"count\",ascending = False,inplace = True);\n",
    "plt.figure(figsize = (20,5));\n",
    "ax = sns.barplot(data = counts[:10], x = \"Field\", y =\"count\");\n",
    "_ = ax.set_xticklabels(ax.get_xticklabels(), rotation = 60);\n",
    "ax.set_title(\"十大热门行业与公司数量\");"
   ]
  },
  {
   "cell_type": "markdown",
   "id": "042691c2-2833-4e64-a4ed-9b667deae64e",
   "metadata": {},
   "source": [
    "## 工作经验分析"
   ]
  },
  {
   "cell_type": "code",
   "execution_count": 43,
   "id": "c62d479c-4c39-407c-96db-fe9aef293db6",
   "metadata": {},
   "outputs": [
    {
     "data": {
      "text/plain": [
       "0        3-5年\n",
       "1       在校/应届\n",
       "2       5-10年\n",
       "3        1-3年\n",
       "4        1-3年\n",
       "        ...  \n",
       "3175     3-5年\n",
       "3176    5-10年\n",
       "3177     1-3年\n",
       "3178       不限\n",
       "3179       不限\n",
       "Name: workYear, Length: 3175, dtype: object"
      ]
     },
     "execution_count": 43,
     "metadata": {},
     "output_type": "execute_result"
    }
   ],
   "source": [
    "#工作经验主要可以参考工作年限\n",
    "workYears = df.workYear;\n",
    "workYears"
   ]
  },
  {
   "cell_type": "code",
   "execution_count": 44,
   "id": "1470ea52-f369-4737-9022-7b535850296b",
   "metadata": {},
   "outputs": [],
   "source": [
    "#同样的，top因为用的是字符串的排序方式，和我们想要的最高工作年限不一样\n",
    "workYears_describe = workYears.describe();"
   ]
  },
  {
   "cell_type": "code",
   "execution_count": 45,
   "id": "14b85ae5-9967-472a-b840-294ba829f347",
   "metadata": {},
   "outputs": [
    {
     "data": {
      "text/plain": [
       "array(['3-5年', '在校/应届', '5-10年', '1-3年', '不限', '1年以下', '10年以上'],\n",
       "      dtype=object)"
      ]
     },
     "execution_count": 45,
     "metadata": {},
     "output_type": "execute_result"
    }
   ],
   "source": [
    "#可以看出来最长时间的工作年限是10年以上标签\n",
    "workYears.unique()"
   ]
  },
  {
   "cell_type": "code",
   "execution_count": 46,
   "id": "2d492b9c-5861-40a9-b97d-fbd035560d78",
   "metadata": {},
   "outputs": [],
   "source": [
    "workYears_describe[\"top\"] = \"10年以上\""
   ]
  },
  {
   "cell_type": "code",
   "execution_count": 47,
   "id": "7c261cf0-09fb-4f5c-a22e-8616b6e8c79a",
   "metadata": {},
   "outputs": [
    {
     "data": {
      "text/plain": [
       "count      3175\n",
       "unique        7\n",
       "top       10年以上\n",
       "freq       1115\n",
       "Name: workYear, dtype: object"
      ]
     },
     "execution_count": 47,
     "metadata": {},
     "output_type": "execute_result"
    }
   ],
   "source": [
    "workYears_describe"
   ]
  },
  {
   "cell_type": "code",
   "execution_count": 48,
   "id": "6a245470-9e9f-4f36-bac5-9efee5f33325",
   "metadata": {},
   "outputs": [
    {
     "data": {
      "text/plain": [
       "<AxesSubplot:xlabel='workYear', ylabel='count'>"
      ]
     },
     "execution_count": 48,
     "metadata": {},
     "output_type": "execute_result"
    },
    {
     "data": {
      "image/png": "[encoded data removed]",
      "text/plain": [
       "<Figure size 432x288 with 1 Axes>"
      ]
     },
     "metadata": {
      "needs_background": "light"
     },
     "output_type": "display_data"
    }
   ],
   "source": [
    "#用一个countplot图表可以快速看出出现频率最高的是3-5年\n",
    "sns.countplot(data = df, x = \"workYear\")"
   ]
  },
  {
   "cell_type": "code",
   "execution_count": 49,
   "id": "8dfa7158-448e-49b1-b193-f1639d65c8dd",
   "metadata": {},
   "outputs": [
    {
     "data": {
      "text/plain": [
       "count             3175\n",
       "unique               7\n",
       "top              10年以上\n",
       "freq              1115\n",
       "most_frequent     3-5年\n",
       "Name: workYear, dtype: object"
      ]
     },
     "execution_count": 49,
     "metadata": {},
     "output_type": "execute_result"
    }
   ],
   "source": [
    "workYears_describe[\"most_frequent\"] = \"3-5年\";\n",
    "workYears_describe"
   ]
  },
  {
   "cell_type": "markdown",
   "id": "03cca10f-129b-4664-ad46-f59a12685008",
   "metadata": {},
   "source": [
    "## 职位标签：词云制作"
   ]
  },
  {
   "cell_type": "markdown",
   "id": "299f6874-e76d-46f9-acce-c15da97fe651",
   "metadata": {},
   "source": [
    "#### 在制作词云之前需要先统计各职位标签出现的次数"
   ]
  },
  {
   "cell_type": "code",
   "execution_count": 50,
   "id": "3134b0ad-f104-4143-8237-3f1229a4b433",
   "metadata": {},
   "outputs": [
    {
     "data": {
      "text/html": [
       "<div>\n",
       "<style scoped>\n",
       "    .dataframe tbody tr th:only-of-type {\n",
       "        vertical-align: middle;\n",
       "    }\n",
       "\n",
       "    .dataframe tbody tr th {\n",
       "        vertical-align: top;\n",
       "    }\n",
       "\n",
       "    .dataframe thead th {\n",
       "        text-align: right;\n",
       "    }\n",
       "</style>\n",
       "<table border=\"1\" class=\"dataframe\">\n",
       "  <thead>\n",
       "    <tr style=\"text-align: right;\">\n",
       "      <th></th>\n",
       "      <th>positionLables</th>\n",
       "    </tr>\n",
       "  </thead>\n",
       "  <tbody>\n",
       "    <tr>\n",
       "      <th>0</th>\n",
       "      <td>数据分析</td>\n",
       "    </tr>\n",
       "    <tr>\n",
       "      <th>1</th>\n",
       "      <td>后端开发</td>\n",
       "    </tr>\n",
       "    <tr>\n",
       "      <th>2</th>\n",
       "      <td>数据分析</td>\n",
       "    </tr>\n",
       "    <tr>\n",
       "      <th>3</th>\n",
       "      <td>商业,SQL,数据分析</td>\n",
       "    </tr>\n",
       "    <tr>\n",
       "      <th>4</th>\n",
       "      <td>数据分析,hive,SQL</td>\n",
       "    </tr>\n",
       "    <tr>\n",
       "      <th>...</th>\n",
       "      <td>...</td>\n",
       "    </tr>\n",
       "    <tr>\n",
       "      <th>3175</th>\n",
       "      <td>体系,指标,项目管理,过程管理,数据分析,指标管理</td>\n",
       "    </tr>\n",
       "    <tr>\n",
       "      <th>3176</th>\n",
       "      <td>产品策划</td>\n",
       "    </tr>\n",
       "    <tr>\n",
       "      <th>3177</th>\n",
       "      <td>数据服务咨询</td>\n",
       "    </tr>\n",
       "    <tr>\n",
       "      <th>3178</th>\n",
       "      <td>科技金融,金融业,软件开发</td>\n",
       "    </tr>\n",
       "    <tr>\n",
       "      <th>3179</th>\n",
       "      <td>证券期货,项目管理</td>\n",
       "    </tr>\n",
       "  </tbody>\n",
       "</table>\n",
       "<p>3175 rows × 1 columns</p>\n",
       "</div>"
      ],
      "text/plain": [
       "                 positionLables\n",
       "0                          数据分析\n",
       "1                          后端开发\n",
       "2                          数据分析\n",
       "3                   商业,SQL,数据分析\n",
       "4                 数据分析,hive,SQL\n",
       "...                         ...\n",
       "3175  体系,指标,项目管理,过程管理,数据分析,指标管理\n",
       "3176                       产品策划\n",
       "3177                     数据服务咨询\n",
       "3178              科技金融,金融业,软件开发\n",
       "3179                  证券期货,项目管理\n",
       "\n",
       "[3175 rows x 1 columns]"
      ]
     },
     "execution_count": 50,
     "metadata": {},
     "output_type": "execute_result"
    }
   ],
   "source": [
    "lables = pd.DataFrame(df.positionLables);\n",
    "#把字符串['xxx','xxx']变为xxx,xxx以方便之后拆分各个标签\n",
    "def normaliseStr(s):\n",
    "    res = \"\";\n",
    "    for c in s:\n",
    "        if c.isalnum() or c == \",\":\n",
    "            res += c;\n",
    "    return res;\n",
    "    \n",
    "lables.positionLables = lables.positionLables.map(normaliseStr);\n",
    "lables"
   ]
  },
  {
   "cell_type": "code",
   "execution_count": 51,
   "id": "07859d74-213f-47e4-bffd-65b2cb8c24a4",
   "metadata": {},
   "outputs": [
    {
     "data": {
      "text/plain": [
       "positionLables\n",
       "数据分析              977\n",
       "电商平台              286\n",
       "SQL               214\n",
       "运营                200\n",
       "Python            196\n",
       "                 ... \n",
       "优化                  1\n",
       "会员运营                1\n",
       "会展拓展                1\n",
       "体系                  1\n",
       "广告投放系统              1\n",
       "Length: 1027, dtype: int64"
      ]
     },
     "execution_count": 51,
     "metadata": {},
     "output_type": "execute_result"
    }
   ],
   "source": [
    "#拆分标签，然后用stack合为1列\n",
    "lables = pd.DataFrame(lables[\"positionLables\"].str.split(r\",\",expand=True).stack().droplevel(1),columns = [\"positionLables\"]);\n",
    "lableCounts = lables.value_counts();\n",
    "lableCounts"
   ]
  },
  {
   "cell_type": "code",
   "execution_count": 52,
   "id": "25d2fcfe-56ce-4a4a-99d7-188a0e54037b",
   "metadata": {},
   "outputs": [
    {
     "data": {
      "text/html": [
       "<div>\n",
       "<style scoped>\n",
       "    .dataframe tbody tr th:only-of-type {\n",
       "        vertical-align: middle;\n",
       "    }\n",
       "\n",
       "    .dataframe tbody tr th {\n",
       "        vertical-align: top;\n",
       "    }\n",
       "\n",
       "    .dataframe thead th {\n",
       "        text-align: right;\n",
       "    }\n",
       "</style>\n",
       "<table border=\"1\" class=\"dataframe\">\n",
       "  <thead>\n",
       "    <tr style=\"text-align: right;\">\n",
       "      <th></th>\n",
       "      <th>count</th>\n",
       "    </tr>\n",
       "    <tr>\n",
       "      <th>positionLables</th>\n",
       "      <th></th>\n",
       "    </tr>\n",
       "  </thead>\n",
       "  <tbody>\n",
       "    <tr>\n",
       "      <th>数据分析</th>\n",
       "      <td>977</td>\n",
       "    </tr>\n",
       "    <tr>\n",
       "      <th>电商平台</th>\n",
       "      <td>286</td>\n",
       "    </tr>\n",
       "    <tr>\n",
       "      <th>SQL</th>\n",
       "      <td>214</td>\n",
       "    </tr>\n",
       "    <tr>\n",
       "      <th>运营</th>\n",
       "      <td>200</td>\n",
       "    </tr>\n",
       "    <tr>\n",
       "      <th>Python</th>\n",
       "      <td>196</td>\n",
       "    </tr>\n",
       "    <tr>\n",
       "      <th>...</th>\n",
       "      <td>...</td>\n",
       "    </tr>\n",
       "    <tr>\n",
       "      <th>优化</th>\n",
       "      <td>1</td>\n",
       "    </tr>\n",
       "    <tr>\n",
       "      <th>会员运营</th>\n",
       "      <td>1</td>\n",
       "    </tr>\n",
       "    <tr>\n",
       "      <th>会展拓展</th>\n",
       "      <td>1</td>\n",
       "    </tr>\n",
       "    <tr>\n",
       "      <th>体系</th>\n",
       "      <td>1</td>\n",
       "    </tr>\n",
       "    <tr>\n",
       "      <th>广告投放系统</th>\n",
       "      <td>1</td>\n",
       "    </tr>\n",
       "  </tbody>\n",
       "</table>\n",
       "<p>1027 rows × 1 columns</p>\n",
       "</div>"
      ],
      "text/plain": [
       "                count\n",
       "positionLables       \n",
       "数据分析              977\n",
       "电商平台              286\n",
       "SQL               214\n",
       "运营                200\n",
       "Python            196\n",
       "...               ...\n",
       "优化                  1\n",
       "会员运营                1\n",
       "会展拓展                1\n",
       "体系                  1\n",
       "广告投放系统              1\n",
       "\n",
       "[1027 rows x 1 columns]"
      ]
     },
     "execution_count": 52,
     "metadata": {},
     "output_type": "execute_result"
    }
   ],
   "source": [
    "lableCounts = pd.DataFrame(lableCounts,columns = [\"count\"]);\n",
    "lableCounts"
   ]
  },
  {
   "cell_type": "markdown",
   "id": "8ec603cc-5569-4ddb-9a73-1b164f2bfa1c",
   "metadata": {},
   "source": [
    "## 以下是制作词云图的代码，如无法运行，可用pip安装wordcloud或者直接打开wordcloud.jpg文件查看词云图"
   ]
  },
  {
   "cell_type": "code",
   "execution_count": 53,
   "id": "9fd2a5be-af6c-4e05-92f0-f5acfde82304",
   "metadata": {},
   "outputs": [],
   "source": [
    "#生成词云图需要的txt文件\n",
    "f = open(\"wordCounts.txt\",\"w\",encoding=\"utf-8\");\n",
    "df = pd.DataFrame(lableCounts.reset_index(),columns = [\"positionLables\",\"count\"])\n",
    "for i,row in enumerate(df.iterrows()):\n",
    "    lable = row[1][\"positionLables\"];\n",
    "    count = row[1][\"count\"];\n",
    "    line = ((lable + \" \")*count).strip() + \"\\n\";\n",
    "    f.write(line);\n",
    "f.close();"
   ]
  },
  {
   "cell_type": "code",
   "execution_count": 54,
   "id": "34217cc9-7732-49c9-a0e4-12c6af496ca2",
   "metadata": {},
   "outputs": [],
   "source": [
    "#制作词云图可以使用wordcloud第三方库\n",
    "#pip install wordcloud\n",
    "import wordcloud"
   ]
  },
  {
   "cell_type": "code",
   "execution_count": 55,
   "id": "f3028751-0fd8-4dba-9e9d-374c3325a8cd",
   "metadata": {},
   "outputs": [],
   "source": [
    "#如果报错，可能是pillow版本过低，可以用以下代码更新\n",
    "#pip install --upgrade pillow\n",
    "font_path = \"SourceHanSansSC-Normal.otf\";\n",
    "imgPath = \"wordcloud.jpg\";\n",
    "wc = wordcloud.WordCloud(font_path=font_path, background_color=\"white\", max_words=1000,\n",
    "               max_font_size=100, random_state=42, width=1000, height=860, collocations=False);\n",
    "f = open(\"wordCounts.txt\",\"r\",encoding=\"utf-8\");\n",
    "lines = f.readlines();\n",
    "words = \"\";\n",
    "for line in lines:\n",
    "    words += line;\n",
    "wc.generate(words);\n",
    "wc.to_file(imgPath);"
   ]
  }
 ],
 "metadata": {
  "kernelspec": {
   "display_name": "Python 3",
   "language": "python",
   "name": "python3"
  },
  "language_info": {
   "codemirror_mode": {
    "name": "ipython",
    "version": 3
   },
   "file_extension": ".py",
   "mimetype": "text/x-python",
   "name": "python",
   "nbconvert_exporter": "python",
   "pygments_lexer": "ipython3",
   "version": "3.9.12"
  }
 },
 "nbformat": 4,
 "nbformat_minor": 5
}
